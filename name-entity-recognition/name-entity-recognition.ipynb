{
 "cells": [
  {
   "cell_type": "markdown",
   "id": "ac937279-d13d-464d-9699-54fd2d28e2a8",
   "metadata": {},
   "source": [
    "# BTC NER dataset/ Named Entity Recognition \n",
    "#### NLP HW2  Due date: May 1\n",
    "#### Team Member: B908108028 李子儀/  108810039 張洸銘"
   ]
  },
  {
   "cell_type": "code",
   "execution_count": 1,
   "id": "7315df8d-187a-49ce-b0d2-ac9fe4907d6f",
   "metadata": {},
   "outputs": [],
   "source": [
    "Topic = 'twitter-sentiment-analysi'\n",
    "Author = ['Alice']\n",
    "Author_token = ['S4O26v10RQusnWSTdQEK3QznlqvatkEUe1QXKbJZR8H']  ##\n",
    "\n",
    "import time as ti\n",
    "Date = ti.ctime()\n",
    "Message = ''"
   ]
  },
  {
   "cell_type": "raw",
   "id": "01eafb17-048d-4c6f-93ab-246d3ff3fd91",
   "metadata": {},
   "source": [
    "\"\"\"\n",
    "Utility functions for doing stratified random sampling (at the sentence\n",
    "level) for those corpora which do not have test/train splits, and for saving\n",
    "the test and train data in CONLL 2003 format in separate directories.\n",
    "\n",
    "\"\"\""
   ]
  },
  {
   "cell_type": "code",
   "execution_count": 1,
   "id": "f64cdd63-2301-4afa-90b8-6e9b7a90acb6",
   "metadata": {},
   "outputs": [],
   "source": [
    "import os\n",
    "import codecs\n",
    "from sklearn.model_selection import train_test_split\n",
    "\n",
    "import utils"
   ]
  },
  {
   "cell_type": "markdown",
   "id": "29c46b97-569c-4220-9799-13db7ea0f4da",
   "metadata": {
    "tags": []
   },
   "source": [
    "### write_new_split\n",
    "    \"\"\" \n",
    "    Do stratified random sampling for a given corpus given by corpus_name,\n",
    "    and save the results in file filename in directory filedir. Parameter\n",
    "    test_size indicates the number of sentences to be used in the test set.\n",
    "\n",
    "    For information on the parameter max_count, see the documentation for\n",
    "    function stratified_split.\n",
    "\n",
    "    For now, this only supports stratified_split at the sentence level.\n",
    "\n",
    "    >>> TRAIN, TEST = write_new_split('CADEC', 1000, filedir, 'cadec', max_count = 2)\n",
    "    >>> TRAIN, TEST = write_new_split('re3d', 200, filedir, 're3d', max_count = 2)\n",
    "    >>> TRAIN, TEST = write_new_split('GUM', 1000, filedir, 'gum', max_count = 2)\n",
    "    >>> TRAIN, TEST = write_new_split('MUC6', 1000, filedir, 'muc6', max_count = 2)\n",
    "    >>> TRAIN, TEST = write_new_split('NIST_IEER99', 690, filedir, 'nist', max_count = 2)\n",
    "    >>> TRAIN, TEST = write_new_split('BBN', 10000, filedir, 'bbn', max_count = 2)\n",
    "    >>> TRAIN, TEST = write_new_split('GMB1', 1000, filedir, 'gmb1', max_count = 2)\n",
    "\n",
    "    \"\"\""
   ]
  },
  {
   "cell_type": "code",
   "execution_count": 2,
   "id": "847f2616-c3cb-4847-823f-732a72b3c667",
   "metadata": {},
   "outputs": [],
   "source": [
    "def write_new_split(corpus_name, test_size, filedir, filename,\n",
    "                    seed = 42, max_count = 2):\n",
    "    r = utils.read_conll(corpus_name)\n",
    "    sentences = list(r)\n",
    "    train_data, test_data = stratified_split(sentences,\n",
    "                                             test_size,\n",
    "                                             seed = seed,\n",
    "                                             max_count = max_count)\n",
    "\n",
    "    writefile(train_data, os.path.join(filedir,'train'), filename+'-train.conll')\n",
    "    writefile(test_data, os.path.join(filedir,'test'), filename+'-test.conll')\n",
    "\n",
    "    return train_data, test_data"
   ]
  },
  {
   "cell_type": "markdown",
   "id": "fd6f5949-ae8f-4416-8531-e0cf10b0ded3",
   "metadata": {},
   "source": [
    "### writefile\n",
    "    \"\"\" \n",
    "    Write the sentences, in CONLL-format, to a file given by filename\n",
    "    located in directory filedir.\n",
    "\n",
    "    \"\"\""
   ]
  },
  {
   "cell_type": "code",
   "execution_count": 3,
   "id": "bd945a3e-6ef2-4c5c-a144-6f299e5ba822",
   "metadata": {},
   "outputs": [],
   "source": [
    "#TODO this should be moved to utils.\n",
    "def writefile(sentences, filedir, filename, sep='\\t'):\n",
    "    DIR = filedir\n",
    "    WRITEFILE = os.path.join(DIR, filename)\n",
    "    if not os.path.exists(DIR):\n",
    "            os.makedirs(DIR)\n",
    "    if os.path.isfile(WRITEFILE):\n",
    "        raise ValueError(\"The file already exists!\")\n",
    "    with codecs.open(WRITEFILE,'a+',encoding='utf-8') as fd:\n",
    "        for sent in sentences:\n",
    "            fd.write('\\n')\n",
    "            for tok in sent:\n",
    "                fd.write(tok[0][0] + sep + tok[1]+'\\n')"
   ]
  },
  {
   "cell_type": "markdown",
   "id": "5d3ae6e9-6c14-4d55-9963-dbbc400e1f80",
   "metadata": {},
   "source": [
    "### stratified_split\n",
    "    \"\"\"\n",
    "    Uses 'train_test_split' with stratification from scikit learn. However,\n",
    "    since we want to split on the sentences level, we first map label\n",
    "    occurrence statistics (only counting B- labels) to integer categories.\n",
    "    \n",
    "    max_count specifies the maximum label count we are interested in from\n",
    "    the point of view of keeping the classes balanced. For example, say\n",
    "    max_count = 2, the label set is [B-ADVERSE, B-DISEASE]. Then a sentence\n",
    "    with 3 counts of B-ADVERSE and 2 counts of B-DISEASE is placed in the same\n",
    "    bin as sentences with 2 counts of B-ADVERSE and 2 counts of B-DISEASE.\n",
    "\n",
    "    If a bin only has one element, 'train_test_split' will fail, so in this\n",
    "    event the element is mapped to the class of sentences with no labels.\n",
    "\n",
    "    \"\"\""
   ]
  },
  {
   "cell_type": "code",
   "execution_count": 4,
   "id": "bd57d109-a76d-4952-8af5-c057d6919e12",
   "metadata": {},
   "outputs": [],
   "source": [
    "def stratified_split(sentences, test_size, max_count = 2, seed = 42):\n",
    "    labels = [[iob for (x,iob) in d] for d in sentences]\n",
    "    tags = list(set([i for s in labels for i in s if i[0]=='B']))\n",
    "    inds = range(len(labels))\n",
    "\n",
    "    Y = [_map_labels(l, tags, max_count) for l in labels]\n",
    "\n",
    "    # Quick fix: if any element in Y only appears once, change it to 0\n",
    "    ##################################################################\n",
    "    if len(tags) < 20:\n",
    "        maxnum = (max_count+1)**len(tags) - 1\n",
    "        Yfreq = [Y.count(i) for i in range(maxnum+1)]\n",
    "        fixcounts = [i for i,x in enumerate(Yfreq) if x==1]\n",
    "        for c in fixcounts:\n",
    "            Y[Y.index(c)] = 0\n",
    "    else: # Due to memory issues:\n",
    "        cc = [Y.count(Y[i]) for i in range(len(Y))]\n",
    "        for i in range(len(cc)):\n",
    "            if cc[i] == 1:\n",
    "                Y[i] = 0\n",
    "    ###################################################################\n",
    "\n",
    "    inds_train, inds_test, Y_train, Y_test = train_test_split(inds, Y,\n",
    "        test_size = test_size, random_state=seed, stratify=Y)\n",
    "\n",
    "    train_data = [sentences[i] for i in inds_train]\n",
    "    test_data = [sentences[i] for i in inds_test]\n",
    "\n",
    "    return train_data, test_data"
   ]
  },
  {
   "cell_type": "markdown",
   "id": "3cb76a74-9b56-43ea-8ede-d0e14c66ced9",
   "metadata": {},
   "source": [
    "### check_label_ratios\n",
    "    \"\"\" \n",
    "    This function can be used to compare the entity class proportions\n",
    "    before and after the test/train split was made. tags is the set of\n",
    "    entity class tags to compare.\n",
    "\n",
    "    \"\"\""
   ]
  },
  {
   "cell_type": "code",
   "execution_count": 5,
   "id": "601e9f30-a31f-4920-9fb1-6645e1512875",
   "metadata": {},
   "outputs": [],
   "source": [
    "def check_label_ratios(train_data, test_data, orig_data, tags):\n",
    "    train_tagcounts =  [ sum([len([i for i in T if i[1] == tag]) for T in train_data]) for tag in tags]\n",
    "    test_tagcounts =  [ sum([len([i for i in T if i[1] == tag]) for T in test_data]) for tag in tags]\n",
    "    orig_tagcounts =  [ sum([len([i for i in T if i[1] == tag]) for T in orig_data]) for tag in tags]\n",
    "\n",
    "    train_ratios = [float(i)/sum(train_tagcounts) for i in train_tagcounts]\n",
    "    test_ratios = [float(i)/sum(test_tagcounts) for i in test_tagcounts]\n",
    "    orig_ratios = [float(i)/sum(orig_tagcounts) for i in orig_tagcounts]\n",
    "\n",
    "    return train_ratios, test_ratios, orig_ratios"
   ]
  },
  {
   "cell_type": "markdown",
   "id": "c2bd4be7-3dc2-47a6-afd6-80aa17155733",
   "metadata": {},
   "source": [
    "### _map_labels\n",
    "    \"\"\"\n",
    "    Parameters\n",
    "    ----------\n",
    "\n",
    "    labels are the labels of one sentence\n",
    "\n",
    "    tags : list\n",
    "        Must all start with B-\n",
    "    \"\"\""
   ]
  },
  {
   "cell_type": "code",
   "execution_count": 6,
   "id": "ee8f06c3-fde3-43ae-8749-0a6068cea881",
   "metadata": {},
   "outputs": [],
   "source": [
    "def _map_labels(labels, tags, max_count = 2):\n",
    "    base = max_count + 1\n",
    "    counts = [labels.count(t) for t in tags]\n",
    "    # Any counts greater than max_count are put in the same 'bin' as max_count\n",
    "    for i in range(len(counts)):\n",
    "        if counts[i] > max_count:\n",
    "            counts[i] = max_count\n",
    "\n",
    "    Y = int(\"\".join(map(str, counts)), base = base)\n",
    "    return Y"
   ]
  },
  {
   "cell_type": "raw",
   "id": "c031e400-e148-491c-bdb4-2bd1cd8c2bbd",
   "metadata": {},
   "source": [
    "\"\"\"\n",
    " Utility functions not related to I/O, that can be directly applied to a list\n",
    " of lists, where each sublist is a sentence, and contains entries of the form\n",
    " ((word, pos_tag, dom), iob)\n",
    "\n",
    "\"\"\""
   ]
  },
  {
   "cell_type": "code",
   "execution_count": 7,
   "id": "9034a96c-d281-4e3c-8693-49f1dc56e4f2",
   "metadata": {},
   "outputs": [],
   "source": [
    "from collections import Counter\n",
    "import copy"
   ]
  },
  {
   "cell_type": "markdown",
   "id": "9e669736-b8af-4d8b-8036-de2e97b1c2dc",
   "metadata": {},
   "source": [
    "### flatten"
   ]
  },
  {
   "cell_type": "code",
   "execution_count": 8,
   "id": "611e9131-e262-407c-a5ae-250e0d78e555",
   "metadata": {},
   "outputs": [],
   "source": [
    "def flatten(sentences):\n",
    "    \"\"\" Flatten a list.\n",
    "\n",
    "    \"\"\"\n",
    "    f = [i for sublist in sentences for i in sublist]\n",
    "    return f"
   ]
  },
  {
   "cell_type": "markdown",
   "id": "9316f4db-961f-4d0b-ae40-77415790f6f3",
   "metadata": {},
   "source": [
    "### get_tagset"
   ]
  },
  {
   "cell_type": "code",
   "execution_count": 9,
   "id": "deac0b4a-5350-453e-ba52-a08a517dca68",
   "metadata": {},
   "outputs": [],
   "source": [
    "def get_tagset(sentences, with_prefix):\n",
    "    \"\"\" Returns the set of entity types appearing in the list of sentences.\n",
    "\n",
    "    If with_prefix is True, it returns both the B- and I- versions for each\n",
    "    entity found. If False, it merges them (i.e., removes the prefix and only\n",
    "    returns the entity type).\n",
    "\n",
    "    \"\"\"\n",
    "    iobs = [iob for sent in sentences for (x,iob) in sent]\n",
    "    tagset = set(iobs)\n",
    "    if not with_prefix:\n",
    "        tagset = set([t[2:] for t in list(tagset) if t != 'O'])\n",
    "    return tagset"
   ]
  },
  {
   "cell_type": "markdown",
   "id": "6ab3bb51-3f9b-4418-8ec5-7f165e41a945",
   "metadata": {},
   "source": [
    "### get_IOB_counts"
   ]
  },
  {
   "cell_type": "code",
   "execution_count": 10,
   "id": "974ab8ea-e8ac-4807-8fde-3ca8ff1d37b7",
   "metadata": {},
   "outputs": [],
   "source": [
    "def c(sentences):\n",
    "    \"\"\" Return a counter with IOB labels and their frequency.\n",
    "\n",
    "    \"\"\"\n",
    "    types2 =[ j[1] for sublist in sentences for j in sublist] #list of IOBs\n",
    "    ner_tags = Counter()\n",
    "\n",
    "    for i,x in enumerate(types2):\n",
    "        ner_tags[x] += 1\n",
    "\n",
    "    return ner_tags"
   ]
  },
  {
   "cell_type": "markdown",
   "id": "737e71e3-93f1-4460-8a63-44973d964ae0",
   "metadata": {},
   "source": [
    "### get_word_counts"
   ]
  },
  {
   "cell_type": "code",
   "execution_count": 11,
   "id": "04ce10ad-daf6-4c3f-b034-70d7258e5d83",
   "metadata": {},
   "outputs": [],
   "source": [
    "def get_word_counts(sentences, exclude_O = False):\n",
    "    \"\"\" Return a Counter containing the number of times each word has appeared\n",
    "    within the list of sentences.\n",
    "\n",
    "    Parameters\n",
    "    ----------\n",
    "\n",
    "    sentences : list\n",
    "        List of lists (sentences)\n",
    "\n",
    "    exclude_O : bool\n",
    "        If True, does not count words that have 'O' labels; that is, only\n",
    "        words corresponding to entities will be counted.\n",
    "\n",
    "    \"\"\"\n",
    "    f = flatten(sentences)\n",
    "\n",
    "    if exclude_O:\n",
    "        words = [x[0] for (x, iob) in f if iob != 'O']\n",
    "    else:\n",
    "        words = [x[0] for (x, iob) in f]\n",
    "\n",
    "    word_count = Counter()\n",
    "    for x in words:\n",
    "        word_count[x] += 1\n",
    "\n",
    "    return word_count"
   ]
  },
  {
   "cell_type": "markdown",
   "id": "558c02a8-6686-451b-8fc6-a5d35268d5ce",
   "metadata": {},
   "source": [
    "### remove_prefix"
   ]
  },
  {
   "cell_type": "code",
   "execution_count": 12,
   "id": "c8001a1a-3381-4c6d-9072-76347b896b4a",
   "metadata": {},
   "outputs": [],
   "source": [
    "def remove_prefix(tok):\n",
    "    if tok[:2] in {'B-', 'I-'}:\n",
    "        tok = tok[2:]\n",
    "    return tok"
   ]
  },
  {
   "cell_type": "markdown",
   "id": "21cf3aa9-619c-4535-8878-03ba9e36866c",
   "metadata": {},
   "source": [
    "### sents_no_prefix"
   ]
  },
  {
   "cell_type": "code",
   "execution_count": 13,
   "id": "70f460f4-165c-4137-868d-b7c0fb597c91",
   "metadata": {},
   "outputs": [],
   "source": [
    "def sents_no_prefix(sents):\n",
    "    newsents = copy.deepcopy(sents)\n",
    "    s22 = [[ [list(x[0]),x[1]] for x in s] for s in newsents]\n",
    "    fixed = [[ (tuple(x[0]), remove_prefix(x[1])) for x in s] for s in s22]\n",
    "    return fixed"
   ]
  },
  {
   "cell_type": "raw",
   "id": "40f65f1d-4e43-4c67-a18e-fda06a2210b6",
   "metadata": {},
   "source": [
    "\"\"\"\n",
    "This contains some utility functions for reading files, searching for entities,\n",
    "and other basic tasks.\n",
    "\n",
    "The functions to_conll_iob, read_conll and get_NER_tagcounts were modified from\n",
    "http://nlpforhackers.io/named-entity-extraction/\n",
    "\n",
    "\"\"\""
   ]
  },
  {
   "cell_type": "code",
   "execution_count": 14,
   "id": "14e06b9b-fee3-4420-a081-517bcda8608c",
   "metadata": {},
   "outputs": [],
   "source": [
    "import codecs\n",
    "import os\n",
    "from collections import Counter\n",
    "try:\n",
    "    import ConfigParser\n",
    "except:\n",
    "    import configparser as ConfigParser"
   ]
  },
  {
   "cell_type": "markdown",
   "id": "8631c395-8848-474e-ad92-779f7a743ceb",
   "metadata": {},
   "source": [
    "### get_entities"
   ]
  },
  {
   "cell_type": "code",
   "execution_count": 15,
   "id": "7de43e1d-34cc-4c26-8d0b-3dd50900929d",
   "metadata": {},
   "outputs": [],
   "source": [
    "# import sentence_utils\n",
    "\n",
    "\n",
    "# def get_entities(corpus_name):\n",
    "#     \"\"\" Load the dataset from the filesystem corresponding to corpus_name\n",
    "#     (to see the list of allowed names, use utils.list_corpora() ), and extract\n",
    "#     all annotated entities.\n",
    "\n",
    "#     Returns a dict, in which each key is an entity type, which contains a list\n",
    "#     of entity mentions in the corpus.\n",
    "\n",
    "#     \"\"\"\n",
    "#     r = read_conll(corpus_name); data = list(r)\n",
    "#     data2 = [ [(w,iob) for ((w,p),iob) in d] for d in data]\n",
    "#     data3 = [i for u in data2 for i in u]\n",
    "\n",
    "#     tags = sentence_utils.get_tagset(data, with_prefix=True)\n",
    "#     taglist = set([t[2:] for t in list(tags) if t !='O'])\n",
    "#     entities = {}\n",
    "#     for key in taglist:\n",
    "#         entities[key] = []\n",
    "#     data3.append((u'O',u'O'))\n",
    "#     ent = []\n",
    "#     entitytype = 'None'\n",
    "#     for i,item in enumerate(data3[0:-1]):\n",
    "#         if item[1] != 'O':\n",
    "#             if item[1][0] == 'B':\n",
    "#                 ent = []\n",
    "#                 ent.append(item[0])\n",
    "#             else: # == I\n",
    "#                 if item[1][0] != 'I':\n",
    "#                     raise ValueError(\"Should be I\")\n",
    "#                 ent.append(item[0])\n",
    "\n",
    "#             if data3[i+1][1][2:] != item[1][2:] or data3[i+1][1][0] == 'B':\n",
    "#                 #print i, item\n",
    "#                 entitytype = item[1][2:]\n",
    "#                 entities[entitytype].append(' '.join(ent))\n",
    "#     return entities"
   ]
  },
  {
   "cell_type": "markdown",
   "id": "47d11a4b-7cf8-4676-bcbe-db89957ad2d7",
   "metadata": {},
   "source": [
    "### list_corpora"
   ]
  },
  {
   "cell_type": "code",
   "execution_count": 16,
   "id": "608daa28-fcde-4edd-925d-7540320daae9",
   "metadata": {},
   "outputs": [],
   "source": [
    "def list_corpora():\n",
    "    \"\"\" List the available corpora names.\n",
    "\n",
    "    These are read from file_locations.cfg. More corpus names can be added by\n",
    "    editing this file.\n",
    "\n",
    "    \"\"\"\n",
    "    config = ConfigParser.RawConfigParser()\n",
    "    config.read('file_locations.cfg')\n",
    "    return config.sections()"
   ]
  },
  {
   "cell_type": "markdown",
   "id": "fc837885-8f98-40e0-bc80-9c6efb51adb6",
   "metadata": {},
   "source": [
    "### get_corpus_location"
   ]
  },
  {
   "cell_type": "code",
   "execution_count": 17,
   "id": "fa29b15c-4d33-43fc-9a4d-870e49f529a8",
   "metadata": {},
   "outputs": [],
   "source": [
    "def get_corpus_location(corpus_name):\n",
    "    \"\"\" Given the corpus_name, this returns a tuple containing, in order:\n",
    "\n",
    "    - file extension: only files with this file extension will be loaded\n",
    "    - path to the directory in which the data resides.\n",
    "    - path to the docs folder, containing both a human-readable summary of the\n",
    "      dataset, and a machine-readable file indicating entity tagging sceme\n",
    "      (IOB1, IOB2, etc), and information on which columns are used for tokens,\n",
    "      entities, or POS tags.\n",
    "\n",
    "    Parameter: corpus name (use function 'list_corpora' to view options.\n",
    "\n",
    "    \"\"\"\n",
    "    config = ConfigParser.RawConfigParser()\n",
    "    config.read('file_locations.cfg')\n",
    "    xx = config.get(corpus_name, 'filename_end')\n",
    "    xx = xx.split(\"\\n\")\n",
    "    xx = tuple(xx)\n",
    "    if len(xx)==1:\n",
    "        xx = xx[0]\n",
    "\n",
    "    filename_end = xx\n",
    "    data_dir = config.get(corpus_name, 'data_dir')\n",
    "    docs_dir = config.get(corpus_name, 'docs_dir')\n",
    "    return filename_end, data_dir, docs_dir"
   ]
  },
  {
   "cell_type": "markdown",
   "id": "b32c7ba4-8ea5-4ad1-a2b4-0a6d681fc568",
   "metadata": {},
   "source": [
    "### get_file_settings"
   ]
  },
  {
   "cell_type": "code",
   "execution_count": 18,
   "id": "c224f8ae-226c-42ac-927e-8baf3e0e54f0",
   "metadata": {},
   "outputs": [],
   "source": [
    "def get_file_settings(corpus_name):\n",
    "    \"\"\" Returns the data file settings corresponding to a particular corpus name,\n",
    "    particularly:\n",
    "    - the column number for the words\n",
    "    - the column number for POS tags\n",
    "    - the column number for the entity tag\n",
    "    - whether there is a file extension restriction when loading the data.\n",
    "    - the separation type (e.g., space, tab)\n",
    "    - The entity annotation scheme (IOB1, IOB2, etc.)\n",
    "\n",
    "    \"\"\"\n",
    "    filename_end, data_dir, docs_dir = get_corpus_location(corpus_name)\n",
    "    config_file = os.path.join(docs_dir, 'corpusconfig.cfg')\n",
    "    config = ConfigParser.RawConfigParser()\n",
    "    config.read(config_file)\n",
    "    IOB = config.get('IOB-format','IOB')\n",
    "    sep = config.get('file-settings','sep')\n",
    "    sep = sep.strip(\"'\") # NOTE case of a single space; in case sep is ' '\n",
    "    if sep=='tab':\n",
    "        sep = '\\t'\n",
    "    iob_pos = config.get('file-settings','iob_pos')\n",
    "    iob_pos = int(iob_pos)\n",
    "    word_pos = config.get('file-settings','word_pos')\n",
    "    word_pos = int(word_pos)\n",
    "    pos_pos = config.get('file-settings','pos_pos')\n",
    "    if pos_pos == 'none':\n",
    "        pos_pos = word_pos\n",
    "    pos_pos = int(pos_pos)\n",
    "    return word_pos, pos_pos, iob_pos, filename_end, sep, IOB #, domain"
   ]
  },
  {
   "cell_type": "markdown",
   "id": "df868065-6234-4865-be36-20a70b821b15",
   "metadata": {},
   "source": [
    "### iob1_to_iob2"
   ]
  },
  {
   "cell_type": "code",
   "execution_count": 19,
   "id": "c05806cd-d8a3-4471-982b-895756666a16",
   "metadata": {},
   "outputs": [],
   "source": [
    "def iob1_to_iob2(annotated_sentence):\n",
    "    \"\"\" Converts list of annotated sentences with entities encoded in the IOB1\n",
    "    scheme to a list with entities encoded in IOB2.\n",
    "\n",
    "    Parameters\n",
    "    ----------\n",
    "    annotated_sentence : list\n",
    "        The list contains tuples (w1, t1, iob1), where w1 is the token and\n",
    "        iob1 is the entity type.\n",
    "\n",
    "    Remark: CONLL2003 actually uses \"IOB1\" and we want to use \"IOB2\". For the\n",
    "    difference, between them, see:\n",
    "    Tjong Kim Sang and Veenstra, Representing Text Chunks (1999).\n",
    "\n",
    "    \"\"\"\n",
    "    proper_iob_tokens = []\n",
    "    for idx, annotated_token in enumerate(annotated_sentence):\n",
    "        word, tag, ner = annotated_token\n",
    "\n",
    "        if ner != 'O':\n",
    "            if idx == 0:\n",
    "                ner = \"B-\" + ner[2:]\n",
    "            elif ner[0:2] == 'B-':\n",
    "                ner = 'B-'+ner[2:]\n",
    "            elif annotated_sentence[idx - 1][2][2:] == ner[2:]:\n",
    "                ner = \"I-\" + ner[2:]\n",
    "            else:\n",
    "                ner = \"B-\" + ner[2:]\n",
    "        proper_iob_tokens.append((word, tag, ner))\n",
    "    return proper_iob_tokens"
   ]
  },
  {
   "cell_type": "markdown",
   "id": "0a671561-cfd1-4190-8dd7-11ee64600eb7",
   "metadata": {},
   "source": [
    "### to_conll_iob"
   ]
  },
  {
   "cell_type": "code",
   "execution_count": 20,
   "id": "71a8fe55-d705-4057-94f0-90d029fd3f41",
   "metadata": {},
   "outputs": [],
   "source": [
    "def to_conll_iob(annotated_sentence):\n",
    "    \"\"\" Transforms sentences encoded without an IOB-prefix (just the entity\n",
    "    type), to sentences with IOB2-type tags.\n",
    "\n",
    "    Parameters\n",
    "    ----------\n",
    "\n",
    "    annotated_sentence : list\n",
    "        List of tuples in the form (w,t,iob)\n",
    "\n",
    "    \"\"\"\n",
    "    proper_iob_tokens = []\n",
    "    for idx, annotated_token in enumerate(annotated_sentence):\n",
    "        word, tag, ner = annotated_token\n",
    "\n",
    "        if ner != 'O':\n",
    "            if idx == 0:\n",
    "                ner = \"B-\" + ner\n",
    "            elif annotated_sentence[idx - 1][2] == ner:\n",
    "                ner = \"I-\" + ner\n",
    "            else:\n",
    "                ner = \"B-\" + ner\n",
    "        proper_iob_tokens.append((word, tag, ner))\n",
    "    return proper_iob_tokens"
   ]
  },
  {
   "cell_type": "markdown",
   "id": "579b8f33-2917-4c46-8c15-33a27589e241",
   "metadata": {},
   "source": [
    "### read_conll\n",
    "    \"\"\" \n",
    "    Load the corpus given by corpus_name. This will be represented as a\n",
    "    generator, to give a list of lists of tuples. Each element in the list is\n",
    "    a sentence. For a list of available corpus names see utils.list_corpora()\n",
    "\n",
    "    Each sentence contains a list of tuples of the form:\n",
    "\n",
    "    ((w, t), iob)\n",
    "\n",
    "    where w is the token, t is the POS tag (if available; if not availabe it\n",
    "    is the same as the token), and iob is the iob tag.\n",
    "\n",
    "    The data will also be converted to IOB2 format if it wasn't in that format\n",
    "    already.\n",
    "\n",
    "    Usage\n",
    "    -----\n",
    "\n",
    "    >>> data = list(utils.read_conll('Wikigold'))\n",
    "\n",
    "    \"\"\""
   ]
  },
  {
   "cell_type": "code",
   "execution_count": 21,
   "id": "f1dff333-ab93-4003-b9a4-50cba45164f8",
   "metadata": {},
   "outputs": [],
   "source": [
    "def read_conll(corpus_name):\n",
    "    word_pos, pos_pos, iob_pos, filename_end, sep, IOB = get_file_settings(corpus_name)\n",
    "    corpus_root = get_corpus_location(corpus_name)[1]\n",
    "\n",
    "    if not os.path.exists(corpus_root):\n",
    "        raise ValueError(\"The data directory specified in file_locations.cfg does not exist.\")\n",
    "\n",
    "    for root, dirs, files in os.walk(corpus_root):\n",
    "        for filename in files:\n",
    "            if filename.endswith(filename_end):\n",
    "                with open(os.path.join(root, filename), 'rb') as file_handle:\n",
    "                    try:\n",
    "                        file_content = file_handle.read().decode('utf-8').strip()\n",
    "                    except:\n",
    "                        raise ValueError(\"Can't process!\")\n",
    "                    # Split sentences:\n",
    "                    annotated_sentences = file_content.split('\\n\\n')\n",
    "\n",
    "                    for annotated_sentence in annotated_sentences:\n",
    "                        if annotated_sentence not in ['-DOCSTART- -X- O O', '-DOCSTART- -X- -X- O']:\n",
    "                            # Split words:\n",
    "                            annotated_tokens = [seq for seq in annotated_sentence.split('\\n')]\n",
    "                            standard_form_tokens = []\n",
    "\n",
    "                            for idx, annotated_token in enumerate(annotated_tokens):\n",
    "                                if sep=='multispace':\n",
    "                                    annotations = annotated_token.split()   # Split annotations\n",
    "                                else:\n",
    "                                    annotations = annotated_token.split(sep)   # Split annotations\n",
    "                                try:\n",
    "                                    word, tag, ner = annotations[word_pos], annotations[pos_pos], annotations[iob_pos]\n",
    "                                except:\n",
    "                                    print(annotations)\n",
    "                                    #raise ValueError(\"??\")\n",
    "                                if IOB =='IO':\n",
    "                                # Transform to IOB format if it is not already.\n",
    "                                    if ner != 'O':\n",
    "                                        ner = ner.split('-')[1]\n",
    "                                    if tag in ('LQU', 'RQU'):\n",
    "                                        tag = \"``\"\n",
    "\n",
    "                                    standard_form_tokens.append((word, tag, ner))\n",
    "                                    conll_tokens = to_conll_iob(standard_form_tokens)\n",
    "                                elif IOB == 'IOB1':\n",
    "                                    standard_form_tokens.append( (word,tag, ner))\n",
    "                                    conll_tokens = iob1_to_iob2(standard_form_tokens)\n",
    "                                elif IOB == 'none':\n",
    "                                    standard_form_tokens.append((word, tag, ner))\n",
    "                                    conll_tokens = to_conll_iob(standard_form_tokens)\n",
    "                                elif IOB == 'IOB2':\n",
    "                                    # This is for the Seminars_and_Job_postings\n",
    "                                    # data:\n",
    "                                    if ner=='0':\n",
    "                                        ner = 'O'\n",
    "                                    standard_form_tokens.append((word, tag, ner))\n",
    "                                    conll_tokens = standard_form_tokens\n",
    "                                else:\n",
    "                                    raise ValueError('Variable IOB has wrong value.')\n",
    "\n",
    "                            yield [((w, t), iob) for w, t, iob in conll_tokens]"
   ]
  },
  {
   "cell_type": "markdown",
   "id": "b6769a6e-ce44-4bda-bc30-90d254eabc97",
   "metadata": {},
   "source": [
    "### attach_domain\n",
    "    \"\"\" \n",
    "    Indicates whether the corpus is src (source) or tgt\n",
    "    (target) corpus when doing trainsfer learning.\n",
    "\n",
    "    This will return a list of lists of the form ((w,t,d),iob), where\n",
    "    d is the domain ('src' or 'tgt') given by domt.\n",
    "\n",
    "    Parameters\n",
    "    ----------\n",
    "\n",
    "    corpus : list\n",
    "        List of lists containing tuples of form ((w,t), iob)\n",
    "    domt : str\n",
    "        Either 'src' or 'tgt'.\n",
    "\n",
    "    \"\"\""
   ]
  },
  {
   "cell_type": "code",
   "execution_count": 22,
   "id": "2da80840-db53-42e1-be93-184628677973",
   "metadata": {},
   "outputs": [],
   "source": [
    "def attach_domain(corpus, domt):\n",
    "    if domt not in {'src','tgt'}: # Domain type - source or target\n",
    "        raise ValueError(\"domt must be 'src' or 'tgt'.\")\n",
    "\n",
    "    data_with_domain = [[((w,t,domt),iob) for ((w,t),iob) in d] for d in corpus]\n",
    "    return data_with_domain"
   ]
  },
  {
   "cell_type": "markdown",
   "id": "520abfe6-2737-440a-8b6f-c99f318093f2",
   "metadata": {},
   "source": [
    "### get_NER_tagcounts\n",
    "    \"\"\" \n",
    "    Return count values for number of tokens for each entity type\n",
    "    (including the 'O' type, i.e., not an entity).\n",
    "\n",
    "    Remark\n",
    "    ------\n",
    "\n",
    "    This reads the information from the filesystem directly, and does not\n",
    "    convert to IOB2 format.\n",
    "\n",
    "    \"\"\""
   ]
  },
  {
   "cell_type": "code",
   "execution_count": 23,
   "id": "cb0c96e9-79dd-489c-8562-bfeb6ad97b3c",
   "metadata": {},
   "outputs": [],
   "source": [
    "def get_NER_tagcounts(corpus_name):\n",
    "    word_pos, pos_pos, iob_pos, filename_end, sep, IOB = get_file_settings(corpus_name)\n",
    "    corpus_root = get_corpus_location(corpus_name)[1]\n",
    "\n",
    "    ner_tags = Counter()\n",
    "\n",
    "    for root, dirs, files in os.walk(corpus_root):\n",
    "        for filename in files:\n",
    "            if filename.endswith(filename_end):\n",
    "                with open(os.path.join(root, filename), 'rb') as file_handle:\n",
    "                    file_content = file_handle.read().decode('utf-8').strip()\n",
    "                    # Split sentences:\n",
    "                    annotated_sentences = file_content.split('\\n\\n')\n",
    "\n",
    "                    for annotated_sentence in annotated_sentences:\n",
    "                        if annotated_sentence not in ['-DOCSTART- -X- O O', '-DOCSTART- -X- -X- O']:\n",
    "                            # Split words:\n",
    "                            annotated_tokens = [seq for seq in annotated_sentence.split('\\n')]\n",
    "                            standard_form_tokens = []\n",
    "\n",
    "                            for idx, annotated_token in enumerate(annotated_tokens):\n",
    "                                if sep=='multispace':\n",
    "                                    annotations = annotated_token.split()   # Split annotations\n",
    "                                else:\n",
    "                                    annotations = annotated_token.split(sep)   # Split annotations\n",
    "\n",
    "                                word, tag, ner = annotations[word_pos], annotations[pos_pos], annotations[iob_pos]\n",
    "                                ner_tags[ner] += 1\n",
    "\n",
    "    return ner_tags"
   ]
  },
  {
   "cell_type": "markdown",
   "id": "f1ee3f61-dc45-4355-b6f9-6620fb0199e2",
   "metadata": {},
   "source": [
    "### read_NER_output\n",
    "    \"\"\" \n",
    "    Reads CONLL-formatted NER output from a file.\n",
    "\n",
    "    Remarks\n",
    "    -------\n",
    "\n",
    "    This assumes the file is in IOB2, not IOBES, and that sep is space.\n",
    "\n",
    "    \"\"\""
   ]
  },
  {
   "cell_type": "code",
   "execution_count": 3,
   "id": "fb71d8b7-8523-4a19-b5df-adc5d95c2492",
   "metadata": {},
   "outputs": [],
   "source": [
    "###########################################AAAAAAAAAAAAAAAAAAAA###################################################\n",
    "def read_NER_output_org(filename):\n",
    "    \n",
    "    sep = ' '\n",
    "    word_pos = 0\n",
    "    iob_pos = -1\n",
    "    with open(filename, 'rb') as file_handle:\n",
    "        try:\n",
    "            file_content = file_handle.read().decode('utf-8').strip()\n",
    "        except:\n",
    "            raise ValueError('Cant process the file.')\n",
    "        # Split sentences:\n",
    "        annotated_sentences = file_content.split('\\n\\n')\n",
    "\n",
    "        for annotated_sentence in annotated_sentences:\n",
    "            # Split words:\n",
    "            annotated_tokens = [seq for seq in annotated_sentence.split('\\n')]\n",
    "            standard_form_tokens = []\n",
    "\n",
    "            for idx, annotated_token in enumerate(annotated_tokens):\n",
    "                if sep=='multispace':\n",
    "                    annotations = annotated_token.split()   # Split annotations\n",
    "                else:\n",
    "                    annotations = annotated_token.split(sep)   # Split annotations\n",
    "\n",
    "                try:\n",
    "                    word, ner = annotations[word_pos], annotations[iob_pos]\n",
    "                except:\n",
    "                    raise ValueError(\"Error!\")\n",
    "\n",
    "                standard_form_tokens.append((word, ner))\n",
    "                conll_tokens = standard_form_tokens\n",
    "\n",
    "            yield [((w,w), iob) for w, iob in conll_tokens]\n",
    "\n",
    "def read_NER_output(filename):\n",
    "    with open(filename, 'r', encoding='utf-8') as f:\n",
    "        sentence = []\n",
    "        for line in f:\n",
    "            line = line.strip()\n",
    "            if not line:  # 空行表示句子結束\n",
    "                yield sentence\n",
    "                sentence = []\n",
    "            else:\n",
    "                word, label = line.split('\\t')\n",
    "                sentence.append((word, label))\n",
    "\n",
    "        if sentence:  # 如果最後還有一個句子沒有yield出去\n",
    "            yield sentence\n"
   ]
  },
  {
   "cell_type": "markdown",
   "id": "12edcb44-f758-439f-802e-19ccfd402da4",
   "metadata": {},
   "source": [
    "### _getlist\n",
    "    \"\"\" \n",
    "    Get a list of config values from the appropriate section of the\n",
    "    configuration file.\n",
    "\n",
    "    \"\"\""
   ]
  },
  {
   "cell_type": "markdown",
   "id": "d62cf939-76bf-48fa-9b54-fdeda6030a9c",
   "metadata": {},
   "source": [
    "### Notify Setting"
   ]
  },
  {
   "cell_type": "code",
   "execution_count": 4,
   "id": "07912f66-20c3-452d-8268-06cda6b3d501",
   "metadata": {},
   "outputs": [],
   "source": [
    "import requests\n",
    "\n",
    "def lineNotifyMessage(msg):\n",
    "    for token in Author_token:\n",
    "        headers = {\n",
    "            \"Authorization\": \"Bearer \" + token, \n",
    "            \"Content-Type\" : \"application/x-www-form-urlencoded\"\n",
    "        }\n",
    "        payload = {'message': msg }\n",
    "        r = requests.post(\"https://notify-api.line.me/api/notify\", headers = headers, params = payload)"
   ]
  },
  {
   "cell_type": "code",
   "execution_count": 5,
   "id": "62bf8e13-8c9a-455e-b5c0-bc49e561dd50",
   "metadata": {},
   "outputs": [],
   "source": [
    "def _getlist(config, section, option, ints=False):\n",
    "    vals = config.get(section, option)\n",
    "    if vals is not None:\n",
    "        vals = vals.split('\\n')\n",
    "        if ints:\n",
    "            vals = [int(i) for i in vals]\n",
    "    return vals\n",
    "\n",
    "\n",
    "# This function is probably not a good idea; it assumes that the entity\n",
    "# descriptions in the corpusconfig.cfg file are exactly the same as the ones\n",
    "# in the corpus.\n",
    "#def get_entity_types(corpus_name):\n",
    "#    \"\"\" Returns the entity types for a given corpus\n",
    "#\n",
    "#    \"\"\"\n",
    "#    filename_end, data_dir, docs_dir = get_corpus_location(corpus_name)\n",
    "#    config_file = os.path.join(docs_dir, 'corpusconfig.cfg')\n",
    "#    config = ConfigParser.RawConfigParser()\n",
    "#    config.read(config_file)\n",
    "#    entity_types = config.get('entities','entities').split('\\n')\n",
    "#    return entity_types"
   ]
  },
  {
   "cell_type": "code",
   "execution_count": 6,
   "id": "7e198253-cd33-41ec-9c70-dd2950991f33",
   "metadata": {},
   "outputs": [
    {
     "name": "stdout",
     "output_type": "stream",
     "text": [
      "1002\n",
      "2000\n",
      "200\n",
      "2000\n",
      "2138\n",
      "1999\n"
     ]
    }
   ],
   "source": [
    "ner_data_a = list(read_NER_output('a.conll'))\n",
    "print(len(ner_data_a))\n",
    "ner_data_b = list(read_NER_output('b.conll'))\n",
    "print(len(ner_data_b))\n",
    "ner_data_e = list(read_NER_output('e.conll'))\n",
    "print(len(ner_data_e))\n",
    "ner_data_f = list(read_NER_output('f.conll'))\n",
    "print(len(ner_data_f))\n",
    "ner_data_g = list(read_NER_output('g.conll'))\n",
    "print(len(ner_data_g))\n",
    "ner_data_h = list(read_NER_output('h.conll'))\n",
    "print(len(ner_data_h))"
   ]
  },
  {
   "cell_type": "code",
   "execution_count": 7,
   "id": "ad0628b8-8dc6-48b9-9be1-7e44ec95037e",
   "metadata": {},
   "outputs": [],
   "source": [
    "ner_data = ner_data_a +ner_data_b +  ner_data_e + ner_data_f + ner_data_g + ner_data_h"
   ]
  },
  {
   "cell_type": "code",
   "execution_count": 8,
   "id": "b2945b7b-e501-45fa-8de4-f0b2537a5a0e",
   "metadata": {},
   "outputs": [
    {
     "data": {
      "text/plain": [
       "9339"
      ]
     },
     "execution_count": 8,
     "metadata": {},
     "output_type": "execute_result"
    }
   ],
   "source": [
    "len(ner_data)"
   ]
  },
  {
   "cell_type": "code",
   "execution_count": 9,
   "id": "e8790b40-b613-4081-a671-e0668e2ea388",
   "metadata": {},
   "outputs": [
    {
     "data": {
      "text/plain": [
       "[[('Happy', 'O'),\n",
       "  ('New', 'O'),\n",
       "  ('Year', 'O'),\n",
       "  ('2012', 'O'),\n",
       "  ('#', 'O'),\n",
       "  ('fireworks', 'O'),\n",
       "  ('#', 'O'),\n",
       "  ('HappyNewYear', 'O'),\n",
       "  ('#', 'O'),\n",
       "  ('photography', 'O'),\n",
       "  ('http://t.co/ImHeLldm', 'O')]]"
      ]
     },
     "execution_count": 9,
     "metadata": {},
     "output_type": "execute_result"
    }
   ],
   "source": [
    "ner_data[10:11]"
   ]
  },
  {
   "cell_type": "code",
   "execution_count": 11,
   "id": "d4262c55-960b-4f5b-bc37-cd69757387a3",
   "metadata": {},
   "outputs": [],
   "source": [
    "import numpy as np\n",
    "import pandas as pd\n",
    "import csv\n",
    "import re, pickle\n",
    "import glob, os\n",
    "import seaborn as sns\n",
    "import matplotlib.pyplot as plt\n",
    "from datetime import date\n",
    "#\n",
    "from nltk.tokenize import word_tokenize\n",
    "from nltk import pos_tag\n",
    "from nltk.corpus import stopwords\n",
    "from nltk.stem import WordNetLemmatizer\n",
    "from sklearn.preprocessing import LabelEncoder\n",
    "from collections import defaultdict\n",
    "from nltk.corpus import wordnet as wn\n",
    "from sklearn.feature_extraction.text import TfidfVectorizer\n",
    "from sklearn import model_selection, naive_bayes, svm\n",
    "from sklearn.metrics import accuracy_score\n",
    "\n",
    "from sklearn.metrics import classification_report,confusion_matrix\n",
    "def get_dataCol(Data_Column):\n",
    "    Data = list(Data_Column)\n",
    "    return Data\n",
    "\n",
    "\n",
    "def box_plot(dataframe, Column_list):\n",
    "    boxplot = dataframe.boxplot(column = Column_list)\n",
    "    plt.show\n",
    "    plt.close\n",
    "\n",
    "def bar_chart(Data_Column):\n",
    "     sns.countplot(get_dataCol(Data_Column))"
   ]
  },
  {
   "cell_type": "markdown",
   "id": "d2fb4d38-8f76-4865-80f1-b48860d77195",
   "metadata": {},
   "source": [
    "## ner_data_a"
   ]
  },
  {
   "cell_type": "code",
   "execution_count": 123,
   "id": "67d34fab-19c5-4174-b160-f829ca2b7159",
   "metadata": {},
   "outputs": [
    {
     "name": "stdout",
     "output_type": "stream",
     "text": [
      "              precision    recall  f1-score   support\n",
      "\n",
      "       B-LOC       0.00      0.00      0.00        30\n",
      "       B-ORG       0.00      0.00      0.00        47\n",
      "       B-PER       1.00      0.02      0.04        46\n",
      "       I-LOC       0.00      0.00      0.00        11\n",
      "       I-ORG       0.00      0.00      0.00        18\n",
      "       I-PER       0.00      0.00      0.00        24\n",
      "           O       0.95      1.00      0.97      3147\n",
      "\n",
      "    accuracy                           0.95      3323\n",
      "   macro avg       0.28      0.15      0.15      3323\n",
      "weighted avg       0.91      0.95      0.92      3323\n",
      "\n"
     ]
    },
    {
     "name": "stderr",
     "output_type": "stream",
     "text": [
      "/opt/homebrew/anaconda3/lib/python3.10/site-packages/sklearn/metrics/_classification.py:1344: UndefinedMetricWarning: Precision and F-score are ill-defined and being set to 0.0 in labels with no predicted samples. Use `zero_division` parameter to control this behavior.\n",
      "  _warn_prf(average, modifier, msg_start, len(result))\n",
      "/opt/homebrew/anaconda3/lib/python3.10/site-packages/sklearn/metrics/_classification.py:1344: UndefinedMetricWarning: Precision and F-score are ill-defined and being set to 0.0 in labels with no predicted samples. Use `zero_division` parameter to control this behavior.\n",
      "  _warn_prf(average, modifier, msg_start, len(result))\n",
      "/opt/homebrew/anaconda3/lib/python3.10/site-packages/sklearn/metrics/_classification.py:1344: UndefinedMetricWarning: Precision and F-score are ill-defined and being set to 0.0 in labels with no predicted samples. Use `zero_division` parameter to control this behavior.\n",
      "  _warn_prf(average, modifier, msg_start, len(result))\n"
     ]
    }
   ],
   "source": [
    "import pandas as pd\n",
    "from sklearn.linear_model import LogisticRegression\n",
    "from sklearn.model_selection import train_test_split\n",
    "from sklearn.metrics import classification_report\n",
    "\n",
    "df = pd.DataFrame([t for s in ner_data_a for t in s], columns=['Token', 'NER'])\n",
    "\n",
    "X = pd.get_dummies(df['Token'], sparse=True)\n",
    "y = df['NER']\n",
    "\n",
    "X_train, X_test, y_train, y_test = train_test_split(X, y, test_size=0.2, random_state=42)\n",
    "\n",
    "clf = LogisticRegression(random_state=42)\n",
    "\n",
    "clf.fit(X_train, y_train)\n",
    "\n",
    "y_pred = clf.predict(X_test)\n",
    "\n",
    "print(classification_report(y_test, y_pred))"
   ]
  },
  {
   "cell_type": "markdown",
   "id": "7e396f3c-c7a7-4dcc-bc1e-b1a198aeebb5",
   "metadata": {},
   "source": [
    "## ner_data_b"
   ]
  },
  {
   "cell_type": "code",
   "execution_count": 124,
   "id": "6f8ed941-9f12-4d81-9827-8ff6a9b92ffa",
   "metadata": {},
   "outputs": [
    {
     "name": "stderr",
     "output_type": "stream",
     "text": [
      "/opt/homebrew/anaconda3/lib/python3.10/site-packages/sklearn/linear_model/_logistic.py:458: ConvergenceWarning: lbfgs failed to converge (status=1):\n",
      "STOP: TOTAL NO. of ITERATIONS REACHED LIMIT.\n",
      "\n",
      "Increase the number of iterations (max_iter) or scale the data as shown in:\n",
      "    https://scikit-learn.org/stable/modules/preprocessing.html\n",
      "Please also refer to the documentation for alternative solver options:\n",
      "    https://scikit-learn.org/stable/modules/linear_model.html#logistic-regression\n",
      "  n_iter_i = _check_optimize_result(\n",
      "/opt/homebrew/anaconda3/lib/python3.10/site-packages/sklearn/metrics/_classification.py:1344: UndefinedMetricWarning: Precision and F-score are ill-defined and being set to 0.0 in labels with no predicted samples. Use `zero_division` parameter to control this behavior.\n",
      "  _warn_prf(average, modifier, msg_start, len(result))\n"
     ]
    },
    {
     "name": "stdout",
     "output_type": "stream",
     "text": [
      "              precision    recall  f1-score   support\n",
      "\n",
      "       B-LOC       0.75      0.06      0.11        51\n",
      "       B-ORG       0.80      0.04      0.07       113\n",
      "       B-PER       0.00      0.00      0.00       186\n",
      "       I-LOC       0.00      0.00      0.00         9\n",
      "       I-ORG       0.00      0.00      0.00        32\n",
      "       I-PER       0.00      0.00      0.00        52\n",
      "           O       0.93      1.00      0.96      5722\n",
      "\n",
      "    accuracy                           0.93      6165\n",
      "   macro avg       0.35      0.16      0.16      6165\n",
      "weighted avg       0.88      0.93      0.90      6165\n",
      "\n"
     ]
    },
    {
     "name": "stderr",
     "output_type": "stream",
     "text": [
      "/opt/homebrew/anaconda3/lib/python3.10/site-packages/sklearn/metrics/_classification.py:1344: UndefinedMetricWarning: Precision and F-score are ill-defined and being set to 0.0 in labels with no predicted samples. Use `zero_division` parameter to control this behavior.\n",
      "  _warn_prf(average, modifier, msg_start, len(result))\n",
      "/opt/homebrew/anaconda3/lib/python3.10/site-packages/sklearn/metrics/_classification.py:1344: UndefinedMetricWarning: Precision and F-score are ill-defined and being set to 0.0 in labels with no predicted samples. Use `zero_division` parameter to control this behavior.\n",
      "  _warn_prf(average, modifier, msg_start, len(result))\n"
     ]
    }
   ],
   "source": [
    "import pandas as pd\n",
    "from sklearn.linear_model import LogisticRegression\n",
    "from sklearn.model_selection import train_test_split\n",
    "from sklearn.metrics import classification_report\n",
    "\n",
    "df = pd.DataFrame([t for s in ner_data_b for t in s], columns=['Token', 'NER'])\n",
    "\n",
    "X = pd.get_dummies(df['Token'], sparse=True)\n",
    "y = df['NER']\n",
    "\n",
    "X_train, X_test, y_train, y_test = train_test_split(X, y, test_size=0.2, random_state=42)\n",
    "\n",
    "clf = LogisticRegression(random_state=42)\n",
    "\n",
    "clf.fit(X_train, y_train)\n",
    "\n",
    "y_pred = clf.predict(X_test)\n",
    "\n",
    "print(classification_report(y_test, y_pred))"
   ]
  },
  {
   "cell_type": "markdown",
   "id": "1507daf6-3b55-4519-bdad-b7bacc453609",
   "metadata": {},
   "source": [
    "## ner_data_e"
   ]
  },
  {
   "cell_type": "code",
   "execution_count": 126,
   "id": "fb1988e5-ec50-4d76-b362-be545c91c062",
   "metadata": {},
   "outputs": [
    {
     "name": "stdout",
     "output_type": "stream",
     "text": [
      "              precision    recall  f1-score   support\n",
      "\n",
      "       B-LOC       0.90      0.30      0.45        30\n",
      "       B-ORG       0.57      0.50      0.53        24\n",
      "       B-PER       0.00      0.00      0.00        11\n",
      "       I-LOC       0.00      0.00      0.00         7\n",
      "       I-ORG       1.00      0.50      0.67        10\n",
      "       I-PER       0.00      0.00      0.00         4\n",
      "           O       0.93      0.99      0.96       711\n",
      "\n",
      "    accuracy                           0.92       797\n",
      "   macro avg       0.49      0.33      0.37       797\n",
      "weighted avg       0.89      0.92      0.90       797\n",
      "\n"
     ]
    },
    {
     "name": "stderr",
     "output_type": "stream",
     "text": [
      "/opt/homebrew/anaconda3/lib/python3.10/site-packages/sklearn/metrics/_classification.py:1344: UndefinedMetricWarning: Precision and F-score are ill-defined and being set to 0.0 in labels with no predicted samples. Use `zero_division` parameter to control this behavior.\n",
      "  _warn_prf(average, modifier, msg_start, len(result))\n",
      "/opt/homebrew/anaconda3/lib/python3.10/site-packages/sklearn/metrics/_classification.py:1344: UndefinedMetricWarning: Precision and F-score are ill-defined and being set to 0.0 in labels with no predicted samples. Use `zero_division` parameter to control this behavior.\n",
      "  _warn_prf(average, modifier, msg_start, len(result))\n",
      "/opt/homebrew/anaconda3/lib/python3.10/site-packages/sklearn/metrics/_classification.py:1344: UndefinedMetricWarning: Precision and F-score are ill-defined and being set to 0.0 in labels with no predicted samples. Use `zero_division` parameter to control this behavior.\n",
      "  _warn_prf(average, modifier, msg_start, len(result))\n"
     ]
    }
   ],
   "source": [
    "import pandas as pd\n",
    "from sklearn.linear_model import LogisticRegression\n",
    "from sklearn.model_selection import train_test_split\n",
    "from sklearn.metrics import classification_report\n",
    "\n",
    "df = pd.DataFrame([t for s in ner_data_e for t in s], columns=['Token', 'NER'])\n",
    "\n",
    "X = pd.get_dummies(df['Token'], sparse=True)\n",
    "y = df['NER']\n",
    "\n",
    "X_train, X_test, y_train, y_test = train_test_split(X, y, test_size=0.2, random_state=42)\n",
    "\n",
    "clf = LogisticRegression(random_state=42)\n",
    "\n",
    "clf.fit(X_train, y_train)\n",
    "\n",
    "y_pred = clf.predict(X_test)\n",
    "\n",
    "print(classification_report(y_test, y_pred))"
   ]
  },
  {
   "cell_type": "markdown",
   "id": "2ff7dc27-e7cf-4d3e-8635-3af3cf52989c",
   "metadata": {},
   "source": [
    "## ner_data_f"
   ]
  },
  {
   "cell_type": "code",
   "execution_count": 127,
   "id": "bdb55334-1842-4f20-a3b2-16ec175b305b",
   "metadata": {},
   "outputs": [
    {
     "name": "stderr",
     "output_type": "stream",
     "text": [
      "/opt/homebrew/anaconda3/lib/python3.10/site-packages/sklearn/linear_model/_logistic.py:458: ConvergenceWarning: lbfgs failed to converge (status=1):\n",
      "STOP: TOTAL NO. of ITERATIONS REACHED LIMIT.\n",
      "\n",
      "Increase the number of iterations (max_iter) or scale the data as shown in:\n",
      "    https://scikit-learn.org/stable/modules/preprocessing.html\n",
      "Please also refer to the documentation for alternative solver options:\n",
      "    https://scikit-learn.org/stable/modules/linear_model.html#logistic-regression\n",
      "  n_iter_i = _check_optimize_result(\n"
     ]
    },
    {
     "name": "stdout",
     "output_type": "stream",
     "text": [
      "              precision    recall  f1-score   support\n",
      "\n",
      "       B-LOC       0.78      0.10      0.18       134\n",
      "       B-ORG       0.38      0.01      0.03       231\n",
      "       B-PER       0.75      0.42      0.54       569\n",
      "       I-LOC       1.00      0.02      0.04        48\n",
      "       I-ORG       0.00      0.00      0.00        44\n",
      "       I-PER       0.00      0.00      0.00        50\n",
      "           O       0.89      1.00      0.94      6009\n",
      "\n",
      "    accuracy                           0.88      7085\n",
      "   macro avg       0.54      0.22      0.25      7085\n",
      "weighted avg       0.85      0.88      0.85      7085\n",
      "\n"
     ]
    },
    {
     "name": "stderr",
     "output_type": "stream",
     "text": [
      "/opt/homebrew/anaconda3/lib/python3.10/site-packages/sklearn/metrics/_classification.py:1344: UndefinedMetricWarning: Precision and F-score are ill-defined and being set to 0.0 in labels with no predicted samples. Use `zero_division` parameter to control this behavior.\n",
      "  _warn_prf(average, modifier, msg_start, len(result))\n",
      "/opt/homebrew/anaconda3/lib/python3.10/site-packages/sklearn/metrics/_classification.py:1344: UndefinedMetricWarning: Precision and F-score are ill-defined and being set to 0.0 in labels with no predicted samples. Use `zero_division` parameter to control this behavior.\n",
      "  _warn_prf(average, modifier, msg_start, len(result))\n",
      "/opt/homebrew/anaconda3/lib/python3.10/site-packages/sklearn/metrics/_classification.py:1344: UndefinedMetricWarning: Precision and F-score are ill-defined and being set to 0.0 in labels with no predicted samples. Use `zero_division` parameter to control this behavior.\n",
      "  _warn_prf(average, modifier, msg_start, len(result))\n"
     ]
    }
   ],
   "source": [
    "import pandas as pd\n",
    "from sklearn.linear_model import LogisticRegression\n",
    "from sklearn.model_selection import train_test_split\n",
    "from sklearn.metrics import classification_report\n",
    "\n",
    "df = pd.DataFrame([t for s in ner_data_f for t in s], columns=['Token', 'NER'])\n",
    "\n",
    "X = pd.get_dummies(df['Token'], sparse=True)\n",
    "y = df['NER']\n",
    "\n",
    "X_train, X_test, y_train, y_test = train_test_split(X, y, test_size=0.2, random_state=42)\n",
    "\n",
    "clf = LogisticRegression(random_state=42)\n",
    "\n",
    "clf.fit(X_train, y_train)\n",
    "\n",
    "y_pred = clf.predict(X_test)\n",
    "\n",
    "print(classification_report(y_test, y_pred))"
   ]
  },
  {
   "cell_type": "markdown",
   "id": "8d0e5f37-213a-4eaf-8030-49987f7f8cea",
   "metadata": {},
   "source": [
    "## ner_data_g"
   ]
  },
  {
   "cell_type": "code",
   "execution_count": 128,
   "id": "1afd989b-786a-4616-8317-2efabb3651c4",
   "metadata": {},
   "outputs": [
    {
     "name": "stderr",
     "output_type": "stream",
     "text": [
      "/opt/homebrew/anaconda3/lib/python3.10/site-packages/sklearn/linear_model/_logistic.py:458: ConvergenceWarning: lbfgs failed to converge (status=1):\n",
      "STOP: TOTAL NO. of ITERATIONS REACHED LIMIT.\n",
      "\n",
      "Increase the number of iterations (max_iter) or scale the data as shown in:\n",
      "    https://scikit-learn.org/stable/modules/preprocessing.html\n",
      "Please also refer to the documentation for alternative solver options:\n",
      "    https://scikit-learn.org/stable/modules/linear_model.html#logistic-regression\n",
      "  n_iter_i = _check_optimize_result(\n"
     ]
    },
    {
     "name": "stdout",
     "output_type": "stream",
     "text": [
      "              precision    recall  f1-score   support\n",
      "\n",
      "       B-LOC       0.85      0.53      0.65       281\n",
      "       B-ORG       0.89      0.28      0.43       285\n",
      "       B-PER       0.63      0.46      0.53       347\n",
      "       I-LOC       0.71      0.12      0.20       101\n",
      "       I-ORG       0.82      0.26      0.40       107\n",
      "       I-PER       0.78      0.21      0.33       140\n",
      "           O       0.89      1.00      0.94      5552\n",
      "\n",
      "    accuracy                           0.88      6813\n",
      "   macro avg       0.80      0.41      0.50      6813\n",
      "weighted avg       0.87      0.88      0.85      6813\n",
      "\n"
     ]
    }
   ],
   "source": [
    "import pandas as pd\n",
    "from sklearn.linear_model import LogisticRegression\n",
    "from sklearn.model_selection import train_test_split\n",
    "from sklearn.metrics import classification_report\n",
    "\n",
    "df = pd.DataFrame([t for s in ner_data_g for t in s], columns=['Token', 'NER'])\n",
    "\n",
    "X = pd.get_dummies(df['Token'], sparse=True)\n",
    "y = df['NER']\n",
    "\n",
    "X_train, X_test, y_train, y_test = train_test_split(X, y, test_size=0.2, random_state=42)\n",
    "\n",
    "clf = LogisticRegression(random_state=42)\n",
    "\n",
    "clf.fit(X_train, y_train)\n",
    "\n",
    "y_pred = clf.predict(X_test)\n",
    "\n",
    "print(classification_report(y_test, y_pred))"
   ]
  },
  {
   "cell_type": "markdown",
   "id": "65b55daf-c02a-42cb-8cd3-d28aeed7e856",
   "metadata": {},
   "source": [
    "## ner_data_h"
   ]
  },
  {
   "cell_type": "code",
   "execution_count": 129,
   "id": "265e9968-61c6-4e4e-ba02-9ae90a5914fa",
   "metadata": {},
   "outputs": [
    {
     "name": "stderr",
     "output_type": "stream",
     "text": [
      "/opt/homebrew/anaconda3/lib/python3.10/site-packages/sklearn/linear_model/_logistic.py:458: ConvergenceWarning: lbfgs failed to converge (status=1):\n",
      "STOP: TOTAL NO. of ITERATIONS REACHED LIMIT.\n",
      "\n",
      "Increase the number of iterations (max_iter) or scale the data as shown in:\n",
      "    https://scikit-learn.org/stable/modules/preprocessing.html\n",
      "Please also refer to the documentation for alternative solver options:\n",
      "    https://scikit-learn.org/stable/modules/linear_model.html#logistic-regression\n",
      "  n_iter_i = _check_optimize_result(\n"
     ]
    },
    {
     "name": "stdout",
     "output_type": "stream",
     "text": [
      "              precision    recall  f1-score   support\n",
      "\n",
      "       B-LOC       0.50      0.02      0.03        58\n",
      "       B-ORG       0.40      0.01      0.03       140\n",
      "       B-PER       0.80      0.44      0.57       468\n",
      "       I-LOC       0.00      0.00      0.00        11\n",
      "       I-ORG       0.00      0.00      0.00        23\n",
      "       I-PER       0.00      0.00      0.00        40\n",
      "           O       0.91      1.00      0.95      5156\n",
      "\n",
      "    accuracy                           0.91      5896\n",
      "   macro avg       0.37      0.21      0.23      5896\n",
      "weighted avg       0.88      0.91      0.88      5896\n",
      "\n"
     ]
    },
    {
     "name": "stderr",
     "output_type": "stream",
     "text": [
      "/opt/homebrew/anaconda3/lib/python3.10/site-packages/sklearn/metrics/_classification.py:1344: UndefinedMetricWarning: Precision and F-score are ill-defined and being set to 0.0 in labels with no predicted samples. Use `zero_division` parameter to control this behavior.\n",
      "  _warn_prf(average, modifier, msg_start, len(result))\n",
      "/opt/homebrew/anaconda3/lib/python3.10/site-packages/sklearn/metrics/_classification.py:1344: UndefinedMetricWarning: Precision and F-score are ill-defined and being set to 0.0 in labels with no predicted samples. Use `zero_division` parameter to control this behavior.\n",
      "  _warn_prf(average, modifier, msg_start, len(result))\n",
      "/opt/homebrew/anaconda3/lib/python3.10/site-packages/sklearn/metrics/_classification.py:1344: UndefinedMetricWarning: Precision and F-score are ill-defined and being set to 0.0 in labels with no predicted samples. Use `zero_division` parameter to control this behavior.\n",
      "  _warn_prf(average, modifier, msg_start, len(result))\n"
     ]
    }
   ],
   "source": [
    "import pandas as pd\n",
    "from sklearn.linear_model import LogisticRegression\n",
    "from sklearn.model_selection import train_test_split\n",
    "from sklearn.metrics import classification_report\n",
    "\n",
    "df = pd.DataFrame([t for s in ner_data_h for t in s], columns=['Token', 'NER'])\n",
    "\n",
    "X = pd.get_dummies(df['Token'], sparse=True)\n",
    "y = df['NER']\n",
    "\n",
    "X_train, X_test, y_train, y_test = train_test_split(X, y, test_size=0.2, random_state=42)\n",
    "\n",
    "clf = LogisticRegression(random_state=42)\n",
    "\n",
    "clf.fit(X_train, y_train)\n",
    "\n",
    "y_pred = clf.predict(X_test)\n",
    "\n",
    "print(classification_report(y_test, y_pred))"
   ]
  },
  {
   "cell_type": "markdown",
   "id": "fb9c4092-42e6-4bea-9568-34ef01f0ce04",
   "metadata": {},
   "source": [
    "## Total"
   ]
  },
  {
   "cell_type": "code",
   "execution_count": 121,
   "id": "cee2fc65-aac0-4356-8b89-2923b354c8f6",
   "metadata": {},
   "outputs": [
    {
     "name": "stderr",
     "output_type": "stream",
     "text": [
      "/opt/homebrew/anaconda3/lib/python3.10/site-packages/sklearn/linear_model/_logistic.py:458: ConvergenceWarning: lbfgs failed to converge (status=1):\n",
      "STOP: TOTAL NO. of ITERATIONS REACHED LIMIT.\n",
      "\n",
      "Increase the number of iterations (max_iter) or scale the data as shown in:\n",
      "    https://scikit-learn.org/stable/modules/preprocessing.html\n",
      "Please also refer to the documentation for alternative solver options:\n",
      "    https://scikit-learn.org/stable/modules/linear_model.html#logistic-regression\n",
      "  n_iter_i = _check_optimize_result(\n"
     ]
    },
    {
     "name": "stdout",
     "output_type": "stream",
     "text": [
      "              precision    recall  f1-score   support\n",
      "\n",
      "       B-LOC       0.78      0.35      0.48       548\n",
      "       B-ORG       0.84      0.19      0.31       824\n",
      "       B-PER       0.68      0.45      0.54      1573\n",
      "       I-LOC       0.71      0.07      0.13       214\n",
      "       I-ORG       0.69      0.16      0.26       222\n",
      "       I-PER       0.88      0.10      0.19       278\n",
      "           O       0.92      0.99      0.96     26418\n",
      "\n",
      "    accuracy                           0.91     30077\n",
      "   macro avg       0.79      0.33      0.41     30077\n",
      "weighted avg       0.90      0.91      0.89     30077\n",
      "\n"
     ]
    }
   ],
   "source": [
    "import pandas as pd\n",
    "from sklearn.linear_model import LogisticRegression\n",
    "from sklearn.model_selection import train_test_split\n",
    "from sklearn.metrics import classification_report\n",
    "\n",
    "df = pd.DataFrame([t for s in ner_data for t in s], columns=['Token', 'NER'])\n",
    "\n",
    "X = pd.get_dummies(df['Token'], sparse=True)\n",
    "y = df['NER']\n",
    "\n",
    "X_train, X_test, y_train, y_test = train_test_split(X, y, test_size=0.2, random_state=42)\n",
    "\n",
    "clf = LogisticRegression(random_state=42)\n",
    "\n",
    "clf.fit(X_train, y_train)\n",
    "\n",
    "y_pred = clf.predict(X_test)\n",
    "\n",
    "print(classification_report(y_test, y_pred))"
   ]
  },
  {
   "cell_type": "code",
   "execution_count": 142,
   "id": "4a794e21-73f1-452a-9e34-1eccd0d7c3ff",
   "metadata": {},
   "outputs": [],
   "source": [
    "lineNotifyMessage ('10-fold')"
   ]
  },
  {
   "cell_type": "code",
   "execution_count": 143,
   "id": "d6bfbdad-f974-465a-a7e4-7aa6e88e943a",
   "metadata": {},
   "outputs": [
    {
     "name": "stderr",
     "output_type": "stream",
     "text": [
      "/opt/homebrew/anaconda3/lib/python3.10/site-packages/sklearn/linear_model/_logistic.py:458: ConvergenceWarning: lbfgs failed to converge (status=1):\n",
      "STOP: TOTAL NO. of ITERATIONS REACHED LIMIT.\n",
      "\n",
      "Increase the number of iterations (max_iter) or scale the data as shown in:\n",
      "    https://scikit-learn.org/stable/modules/preprocessing.html\n",
      "Please also refer to the documentation for alternative solver options:\n",
      "    https://scikit-learn.org/stable/modules/linear_model.html#logistic-regression\n",
      "  n_iter_i = _check_optimize_result(\n",
      "/opt/homebrew/anaconda3/lib/python3.10/site-packages/sklearn/linear_model/_logistic.py:458: ConvergenceWarning: lbfgs failed to converge (status=1):\n",
      "STOP: TOTAL NO. of ITERATIONS REACHED LIMIT.\n",
      "\n",
      "Increase the number of iterations (max_iter) or scale the data as shown in:\n",
      "    https://scikit-learn.org/stable/modules/preprocessing.html\n",
      "Please also refer to the documentation for alternative solver options:\n",
      "    https://scikit-learn.org/stable/modules/linear_model.html#logistic-regression\n",
      "  n_iter_i = _check_optimize_result(\n",
      "/opt/homebrew/anaconda3/lib/python3.10/site-packages/sklearn/linear_model/_logistic.py:458: ConvergenceWarning: lbfgs failed to converge (status=1):\n",
      "STOP: TOTAL NO. of ITERATIONS REACHED LIMIT.\n",
      "\n",
      "Increase the number of iterations (max_iter) or scale the data as shown in:\n",
      "    https://scikit-learn.org/stable/modules/preprocessing.html\n",
      "Please also refer to the documentation for alternative solver options:\n",
      "    https://scikit-learn.org/stable/modules/linear_model.html#logistic-regression\n",
      "  n_iter_i = _check_optimize_result(\n",
      "/opt/homebrew/anaconda3/lib/python3.10/site-packages/sklearn/linear_model/_logistic.py:458: ConvergenceWarning: lbfgs failed to converge (status=1):\n",
      "STOP: TOTAL NO. of ITERATIONS REACHED LIMIT.\n",
      "\n",
      "Increase the number of iterations (max_iter) or scale the data as shown in:\n",
      "    https://scikit-learn.org/stable/modules/preprocessing.html\n",
      "Please also refer to the documentation for alternative solver options:\n",
      "    https://scikit-learn.org/stable/modules/linear_model.html#logistic-regression\n",
      "  n_iter_i = _check_optimize_result(\n",
      "/opt/homebrew/anaconda3/lib/python3.10/site-packages/sklearn/linear_model/_logistic.py:458: ConvergenceWarning: lbfgs failed to converge (status=1):\n",
      "STOP: TOTAL NO. of ITERATIONS REACHED LIMIT.\n",
      "\n",
      "Increase the number of iterations (max_iter) or scale the data as shown in:\n",
      "    https://scikit-learn.org/stable/modules/preprocessing.html\n",
      "Please also refer to the documentation for alternative solver options:\n",
      "    https://scikit-learn.org/stable/modules/linear_model.html#logistic-regression\n",
      "  n_iter_i = _check_optimize_result(\n",
      "/opt/homebrew/anaconda3/lib/python3.10/site-packages/sklearn/linear_model/_logistic.py:458: ConvergenceWarning: lbfgs failed to converge (status=1):\n",
      "STOP: TOTAL NO. of ITERATIONS REACHED LIMIT.\n",
      "\n",
      "Increase the number of iterations (max_iter) or scale the data as shown in:\n",
      "    https://scikit-learn.org/stable/modules/preprocessing.html\n",
      "Please also refer to the documentation for alternative solver options:\n",
      "    https://scikit-learn.org/stable/modules/linear_model.html#logistic-regression\n",
      "  n_iter_i = _check_optimize_result(\n",
      "/opt/homebrew/anaconda3/lib/python3.10/site-packages/sklearn/linear_model/_logistic.py:458: ConvergenceWarning: lbfgs failed to converge (status=1):\n",
      "STOP: TOTAL NO. of ITERATIONS REACHED LIMIT.\n",
      "\n",
      "Increase the number of iterations (max_iter) or scale the data as shown in:\n",
      "    https://scikit-learn.org/stable/modules/preprocessing.html\n",
      "Please also refer to the documentation for alternative solver options:\n",
      "    https://scikit-learn.org/stable/modules/linear_model.html#logistic-regression\n",
      "  n_iter_i = _check_optimize_result(\n",
      "/opt/homebrew/anaconda3/lib/python3.10/site-packages/sklearn/linear_model/_logistic.py:458: ConvergenceWarning: lbfgs failed to converge (status=1):\n",
      "STOP: TOTAL NO. of ITERATIONS REACHED LIMIT.\n",
      "\n",
      "Increase the number of iterations (max_iter) or scale the data as shown in:\n",
      "    https://scikit-learn.org/stable/modules/preprocessing.html\n",
      "Please also refer to the documentation for alternative solver options:\n",
      "    https://scikit-learn.org/stable/modules/linear_model.html#logistic-regression\n",
      "  n_iter_i = _check_optimize_result(\n",
      "/opt/homebrew/anaconda3/lib/python3.10/site-packages/sklearn/linear_model/_logistic.py:458: ConvergenceWarning: lbfgs failed to converge (status=1):\n",
      "STOP: TOTAL NO. of ITERATIONS REACHED LIMIT.\n",
      "\n",
      "Increase the number of iterations (max_iter) or scale the data as shown in:\n",
      "    https://scikit-learn.org/stable/modules/preprocessing.html\n",
      "Please also refer to the documentation for alternative solver options:\n",
      "    https://scikit-learn.org/stable/modules/linear_model.html#logistic-regression\n",
      "  n_iter_i = _check_optimize_result(\n",
      "/opt/homebrew/anaconda3/lib/python3.10/site-packages/sklearn/linear_model/_logistic.py:458: ConvergenceWarning: lbfgs failed to converge (status=1):\n",
      "STOP: TOTAL NO. of ITERATIONS REACHED LIMIT.\n",
      "\n",
      "Increase the number of iterations (max_iter) or scale the data as shown in:\n",
      "    https://scikit-learn.org/stable/modules/preprocessing.html\n",
      "Please also refer to the documentation for alternative solver options:\n",
      "    https://scikit-learn.org/stable/modules/linear_model.html#logistic-regression\n",
      "  n_iter_i = _check_optimize_result(\n"
     ]
    },
    {
     "name": "stdout",
     "output_type": "stream",
     "text": [
      "{'B-LOC': {'precision': 0.7804661841494467, 'recall': 0.35673520810229997, 'f1-score': 0.4888564223460192, 'support': 286}, 'B-ORG': {'precision': 0.8044195103295726, 'recall': 0.195309716962479, 'f1-score': 0.31400223830501717, 'support': 420}, 'B-PER': {'precision': 0.681448638439501, 'recall': 0.4524688698882843, 'f1-score': 0.5437688857451904, 'support': 778}, 'I-LOC': {'precision': 0.6116674641148325, 'recall': 0.10102831102713603, 'f1-score': 0.17129096825308998, 'support': 120}, 'I-ORG': {'precision': 0.7533274397138612, 'recall': 0.1657614849874301, 'f1-score': 0.2691871707580833, 'support': 114}, 'I-PER': {'precision': 0.7739360808697192, 'recall': 0.11783439488497909, 'f1-score': 0.20419247101126653, 'support': 136}, 'O': {'precision': 0.9210301397005688, 'recall': 0.9934605545568693, 'f1-score': 0.9558735726458603, 'support': 13185}, 'accuracy': 0.909855634825448, 'macro avg': {'precision': 0.7608993510453576, 'recall': 0.34037122005849685, 'f1-score': 0.42102453272350376, 'support': 15039}, 'weighted avg': {'precision': 0.897839976906264, 'recall': 0.909855634825448, 'f1-score': 0.8896423721346796, 'support': 15039}}\n"
     ]
    }
   ],
   "source": [
    "import pandas as pd\n",
    "from sklearn.linear_model import LogisticRegression\n",
    "from sklearn.model_selection import train_test_split, KFold\n",
    "from sklearn.metrics import classification_report\n",
    "\n",
    "df = pd.DataFrame([t for s in ner_data for t in s], columns=['Token', 'NER'])\n",
    "\n",
    "X = pd.get_dummies(df['Token'], sparse=True)\n",
    "y = df['NER']\n",
    "\n",
    "kf = KFold(n_splits=10, shuffle=True, random_state=42)\n",
    "\n",
    "report = None\n",
    "\n",
    "\n",
    "for train_index, test_index in kf.split(X):\n",
    "\n",
    "    X_train, X_test = X.iloc[train_index], X.iloc[test_index]\n",
    "    y_train, y_test = y.iloc[train_index], y.iloc[test_index]\n",
    "\n",
    "\n",
    "    clf = LogisticRegression(random_state=42)\n",
    "\n",
    "\n",
    "    clf.fit(X_train, y_train)\n",
    "\n",
    "\n",
    "    y_pred = clf.predict(X_test)\n",
    "\n",
    "    report_curr = classification_report(y_test, y_pred, output_dict=True)\n",
    "\n",
    "    if report is None:\n",
    "        report = report_curr\n",
    "    else:\n",
    "        for key in report_curr.keys():\n",
    "            if key != 'accuracy':\n",
    "                report[key]['precision'] += report_curr[key]['precision']\n",
    "                report[key]['recall'] += report_curr[key]['recall']\n",
    "                report[key]['f1-score'] += report_curr[key]['f1-score']\n",
    "        report['accuracy'] += report_curr['accuracy']\n",
    "\n",
    "for key in report.keys():\n",
    "    if key != 'accuracy':\n",
    "        report[key]['precision'] /= 10\n",
    "        report[key]['recall'] /= 10\n",
    "        report[key]['f1-score'] /= 10\n",
    "    else:\n",
    "        report['accuracy'] /= 10\n",
    "        \n",
    "print(report)"
   ]
  },
  {
   "cell_type": "code",
   "execution_count": 144,
   "id": "f0c94b28-e154-4de2-bd4b-f3be3527ad60",
   "metadata": {},
   "outputs": [],
   "source": [
    "lineNotifyMessage ('10-fold-end')"
   ]
  },
  {
   "cell_type": "code",
   "execution_count": 145,
   "id": "33dcb8de-59fc-4c67-8ff9-8709c03aec5d",
   "metadata": {},
   "outputs": [
    {
     "data": {
      "image/png": "[encoded data removed]",
      "text/plain": [
       "<Figure size 800x800 with 1 Axes>"
      ]
     },
     "metadata": {},
     "output_type": "display_data"
    }
   ],
   "source": [
    "from sklearn.metrics import confusion_matrix\n",
    "import matplotlib.pyplot as plt\n",
    "import seaborn as sns\n",
    "\n",
    "cm = confusion_matrix(y_test, y_pred)\n",
    "\n",
    "plt.figure(figsize=(8, 8))\n",
    "sns.heatmap(cm, annot=True, fmt='d', cmap='Blues', cbar=False,\n",
    "            xticklabels=clf.classes_, yticklabels=clf.classes_)\n",
    "plt.xlabel('Predicted Labels')\n",
    "plt.ylabel('True Labels')\n",
    "plt.title('Confusion Matrix')\n",
    "plt.show()"
   ]
  },
  {
   "cell_type": "code",
   "execution_count": 12,
   "id": "078b1ef9-6d70-48b6-bfa1-1d7664155912",
   "metadata": {},
   "outputs": [
    {
     "name": "stderr",
     "output_type": "stream",
     "text": [
      "/opt/homebrew/anaconda3/lib/python3.10/site-packages/tqdm/auto.py:22: TqdmWarning: IProgress not found. Please update jupyter and ipywidgets. See https://ipywidgets.readthedocs.io/en/stable/user_install.html\n",
      "  from .autonotebook import tqdm as notebook_tqdm\n"
     ]
    }
   ],
   "source": [
    "import pandas as pd\n",
    "import torch\n",
    "from transformers import BertTokenizer, BertForSequenceClassification\n",
    "from sklearn.model_selection import train_test_split, KFold\n",
    "from sklearn.metrics import classification_report"
   ]
  },
  {
   "cell_type": "code",
   "execution_count": null,
   "id": "2c311252-9fbe-4ded-989c-8b2aeb8339c2",
   "metadata": {},
   "outputs": [
    {
     "name": "stderr",
     "output_type": "stream",
     "text": [
      "Some weights of the model checkpoint at bert-base-cased were not used when initializing BertForSequenceClassification: ['cls.seq_relationship.bias', 'cls.predictions.decoder.weight', 'cls.predictions.bias', 'cls.predictions.transform.LayerNorm.bias', 'cls.seq_relationship.weight', 'cls.predictions.transform.dense.bias', 'cls.predictions.transform.dense.weight', 'cls.predictions.transform.LayerNorm.weight']\n",
      "- This IS expected if you are initializing BertForSequenceClassification from the checkpoint of a model trained on another task or with another architecture (e.g. initializing a BertForSequenceClassification model from a BertForPreTraining model).\n",
      "- This IS NOT expected if you are initializing BertForSequenceClassification from the checkpoint of a model that you expect to be exactly identical (initializing a BertForSequenceClassification model from a BertForSequenceClassification model).\n",
      "Some weights of BertForSequenceClassification were not initialized from the model checkpoint at bert-base-cased and are newly initialized: ['classifier.bias', 'classifier.weight']\n",
      "You should probably TRAIN this model on a down-stream task to be able to use it for predictions and inference.\n"
     ]
    }
   ],
   "source": [
    "tokenizer = BertTokenizer.from_pretrained('bert-base-cased')\n",
    "model = BertForSequenceClassification.from_pretrained('bert-base-cased', num_labels=7)\n",
    "\n",
    "df = pd.DataFrame([t for s in ner_data for t in s], columns=['Token', 'NER'])\n",
    "\n",
    "X = df['Token'].tolist()\n",
    "y = df['NER'].tolist()\n",
    "\n",
    "label_map = {'B-LOC': 0, 'B-ORG': 1, 'B-PER': 2, 'I-LOC': 3, 'I-ORG': 4, 'I-PER': 5, 'O': 6}\n",
    "y = [label_map[label] for label in y]\n",
    "\n",
    "kf = KFold(n_splits=2, shuffle=True, random_state=42)\n",
    "\n",
    "report = None\n",
    "\n",
    "for train_index, test_index in kf.split(X):\n",
    "    X_train, X_test = [X[i] for i in train_index], [X[i] for i in test_index]\n",
    "    y_train, y_test = torch.tensor([y[i] for i in train_index]), torch.tensor([y[i] for i in test_index])\n",
    "\n",
    "    encoding_train = tokenizer(X_train, truncation=True, padding=True, return_tensors='pt')\n",
    "    encoding_test = tokenizer(X_test, truncation=True, padding=True, return_tensors='pt')\n",
    "\n",
    "    optimizer = torch.optim.Adam(model.parameters(), lr=1e-5)\n",
    "    model.train()\n",
    "    for epoch in range(3):\n",
    "        optimizer.zero_grad()\n",
    "        loss, _ = model(input_ids=encoding_train['input_ids'], \n",
    "                        token_type_ids=encoding_train['token_type_ids'],\n",
    "                        attention_mask=encoding_train['attention_mask'], \n",
    "                        labels=y_train)\n",
    "        loss.backward()\n",
    "        optimizer.step()\n",
    "\n",
    "    model.eval()\n",
    "    with torch.no_grad():\n",
    "        y_pred = model(input_ids=encoding_test['input_ids'], \n",
    "                       token_type_ids=encoding_test['token_type_ids'], \n",
    "                       attention_mask=encoding_test['attention_mask'])[0].argmax(dim=1)\n",
    "    report_curr = classification_report(y_test, y_pred, output_dict=True)\n",
    "\n",
    "    if report is None:\n",
    "        report = report_curr\n",
    "    else:\n",
    "        for key in report_curr.keys():\n",
    "            if key != 'accuracy':\n",
    "                report[key]['precision'] += report_curr[key]['precision']\n",
    "                report[key]['recall'] += report_curr[key]['recall']\n",
    "                report[key]['f1-score'] += report_curr[key]['f1-score']\n",
    "        report['accuracy'] += report"
   ]
  },
  {
   "cell_type": "code",
   "execution_count": null,
   "id": "9b1f12e3-7d05-4b3b-9b82-89d3e5f2b35e",
   "metadata": {},
   "outputs": [],
   "source": []
  }
 ],
 "metadata": {
  "kernelspec": {
   "display_name": "Python 3 (ipykernel)",
   "language": "python",
   "name": "python3"
  },
  "language_info": {
   "codemirror_mode": {
    "name": "ipython",
    "version": 3
   },
   "file_extension": ".py",
   "mimetype": "text/x-python",
   "name": "python",
   "nbconvert_exporter": "python",
   "pygments_lexer": "ipython3",
   "version": "3.10.9"
  }
 },
 "nbformat": 4,
 "nbformat_minor": 5
}
