{
 "cells": [
  {
   "cell_type": "markdown",
   "id": "4887daf5",
   "metadata": {},
   "source": [
    "# carblacac/twitter-sentiment-analysis\n",
    "#### NLP HW1  Due date: March 29\n",
    "#### Team Member: B908108028 李子儀/  108810039 張洸銘"
   ]
  },
  {
   "cell_type": "code",
   "execution_count": 1,
   "id": "284e6b22",
   "metadata": {},
   "outputs": [],
   "source": [
    "Topic = 'twitter-sentiment-analysi'\n",
    "Author = ['Alice']\n",
    "# Author_token = [My_Token]  ##\n",
    "\n",
    "import time as ti\n",
    "Date = ti.ctime()\n",
    "Message = ''"
   ]
  },
  {
   "cell_type": "markdown",
   "id": "d65966ba",
   "metadata": {},
   "source": [
    "### Functions and Packages"
   ]
  },
  {
   "cell_type": "code",
   "execution_count": 2,
   "id": "c66b8ea4",
   "metadata": {},
   "outputs": [],
   "source": [
    "import numpy as np\n",
    "import pandas as pd\n",
    "import csv\n",
    "import re, pickle\n",
    "import glob, os\n",
    "import seaborn as sns\n",
    "import matplotlib.pyplot as plt\n",
    "from datetime import date\n",
    "#\n",
    "from nltk.tokenize import word_tokenize\n",
    "from nltk import pos_tag\n",
    "from nltk.corpus import stopwords\n",
    "from nltk.stem import WordNetLemmatizer\n",
    "from sklearn.preprocessing import LabelEncoder\n",
    "from collections import defaultdict\n",
    "from nltk.corpus import wordnet as wn\n",
    "from sklearn.feature_extraction.text import TfidfVectorizer\n",
    "from sklearn import model_selection, naive_bayes, svm\n",
    "from sklearn.metrics import accuracy_score\n",
    "from sklearn.metrics import classification_report,confusion_matrix"
   ]
  },
  {
   "cell_type": "code",
   "execution_count": 3,
   "id": "31776d7e",
   "metadata": {},
   "outputs": [],
   "source": [
    "def open_csvfile(dataframe, file_name, seperator):\n",
    "    print('check, dataframe, file_name, seperator')\n",
    "    dataframe =  pd.read_csv(file_name, sep = seperator)\n",
    "    print('open csv file ', file_name)\n",
    "    \n",
    "    return dataframe\n",
    "\n",
    "def save_csvfile(dataframe, file_name):\n",
    "    print('check dataframe, file_name')\n",
    "    dataframe.to_csv(file_name,encoding='utf-8',index=False)\n",
    "    print('save file ', file_name)\n",
    "    \n",
    "\n",
    "def open_pkl(dataframe, file_name):\n",
    "    print('check dataframe, file_name')\n",
    "    dataframe = pd.read_pickle(file_name)\n",
    "    print('open pkl file ', file_name)\n",
    "    \n",
    "    return dataframe\n",
    "\n",
    "\n",
    "def get_dataCol(Data_Column):\n",
    "    Data = list(Data_Column)\n",
    "    \n",
    "    return Data\n",
    "\n",
    "\n",
    "def box_plot(dataframe, Column_list):\n",
    "    boxplot = dataframe.boxplot(column = Column_list)\n",
    "    plt.show\n",
    "    plt.close\n",
    "\n",
    "def bar_chart(Data_Column):\n",
    "     sns.countplot(get_dataCol(Data_Column))"
   ]
  },
  {
   "cell_type": "markdown",
   "id": "52e7f3b7",
   "metadata": {},
   "source": [
    "### Notify Setting"
   ]
  },
  {
   "cell_type": "code",
   "execution_count": 4,
   "id": "b92a7ab3",
   "metadata": {},
   "outputs": [],
   "source": [
    "import requests\n",
    "\n",
    "def lineNotifyMessage(msg):\n",
    "    for token in Author_token:\n",
    "        headers = {\n",
    "            \"Authorization\": \"Bearer \" + token, \n",
    "            \"Content-Type\" : \"application/x-www-form-urlencoded\"\n",
    "        }\n",
    "        payload = {'message': msg }\n",
    "        r = requests.post(\"https://notify-api.line.me/api/notify\", headers = headers, params = payload)"
   ]
  },
  {
   "cell_type": "code",
   "execution_count": 5,
   "id": "48f0fd39",
   "metadata": {},
   "outputs": [],
   "source": [
    "lineNotifyMessage ('Start')"
   ]
  },
  {
   "cell_type": "markdown",
   "id": "a06c8ebc",
   "metadata": {},
   "source": [
    "### Open File"
   ]
  },
  {
   "cell_type": "code",
   "execution_count": 6,
   "id": "579ffc5d",
   "metadata": {},
   "outputs": [],
   "source": [
    "#train = open_csvfile('data', 'Sentiment Analysis Dataset.csv', ' , ')\n",
    "data = pd.read_csv('Sentiment Analysis Dataset.csv', on_bad_lines='skip')"
   ]
  },
  {
   "cell_type": "code",
   "execution_count": 7,
   "id": "7d1c1321",
   "metadata": {},
   "outputs": [
    {
     "data": {
      "text/html": [
       "<div>\n",
       "<style scoped>\n",
       "    .dataframe tbody tr th:only-of-type {\n",
       "        vertical-align: middle;\n",
       "    }\n",
       "\n",
       "    .dataframe tbody tr th {\n",
       "        vertical-align: top;\n",
       "    }\n",
       "\n",
       "    .dataframe thead th {\n",
       "        text-align: right;\n",
       "    }\n",
       "</style>\n",
       "<table border=\"1\" class=\"dataframe\">\n",
       "  <thead>\n",
       "    <tr style=\"text-align: right;\">\n",
       "      <th></th>\n",
       "      <th>ItemID</th>\n",
       "      <th>Sentiment</th>\n",
       "      <th>SentimentSource</th>\n",
       "      <th>SentimentText</th>\n",
       "    </tr>\n",
       "  </thead>\n",
       "  <tbody>\n",
       "    <tr>\n",
       "      <th>0</th>\n",
       "      <td>1</td>\n",
       "      <td>0</td>\n",
       "      <td>Sentiment140</td>\n",
       "      <td>is so sad for my APL frie...</td>\n",
       "    </tr>\n",
       "    <tr>\n",
       "      <th>1</th>\n",
       "      <td>2</td>\n",
       "      <td>0</td>\n",
       "      <td>Sentiment140</td>\n",
       "      <td>I missed the New Moon trail...</td>\n",
       "    </tr>\n",
       "    <tr>\n",
       "      <th>2</th>\n",
       "      <td>3</td>\n",
       "      <td>1</td>\n",
       "      <td>Sentiment140</td>\n",
       "      <td>omg its already 7:30 :O</td>\n",
       "    </tr>\n",
       "    <tr>\n",
       "      <th>3</th>\n",
       "      <td>4</td>\n",
       "      <td>0</td>\n",
       "      <td>Sentiment140</td>\n",
       "      <td>.. Omgaga. Im sooo  im gunna CRy. I'...</td>\n",
       "    </tr>\n",
       "    <tr>\n",
       "      <th>4</th>\n",
       "      <td>5</td>\n",
       "      <td>0</td>\n",
       "      <td>Sentiment140</td>\n",
       "      <td>i think mi bf is cheating on me!!!   ...</td>\n",
       "    </tr>\n",
       "    <tr>\n",
       "      <th>...</th>\n",
       "      <td>...</td>\n",
       "      <td>...</td>\n",
       "      <td>...</td>\n",
       "      <td>...</td>\n",
       "    </tr>\n",
       "    <tr>\n",
       "      <th>1578607</th>\n",
       "      <td>1578623</td>\n",
       "      <td>1</td>\n",
       "      <td>Sentiment140</td>\n",
       "      <td>Zzzzzz.... Finally! Night tweeters!</td>\n",
       "    </tr>\n",
       "    <tr>\n",
       "      <th>1578608</th>\n",
       "      <td>1578624</td>\n",
       "      <td>1</td>\n",
       "      <td>Sentiment140</td>\n",
       "      <td>Zzzzzzz, sleep well people</td>\n",
       "    </tr>\n",
       "    <tr>\n",
       "      <th>1578609</th>\n",
       "      <td>1578625</td>\n",
       "      <td>0</td>\n",
       "      <td>Sentiment140</td>\n",
       "      <td>ZzzZzZzzzZ... wait no I have homework.</td>\n",
       "    </tr>\n",
       "    <tr>\n",
       "      <th>1578610</th>\n",
       "      <td>1578626</td>\n",
       "      <td>0</td>\n",
       "      <td>Sentiment140</td>\n",
       "      <td>ZzZzzzZZZZzzz meh, what am I doing up again?</td>\n",
       "    </tr>\n",
       "    <tr>\n",
       "      <th>1578611</th>\n",
       "      <td>1578627</td>\n",
       "      <td>0</td>\n",
       "      <td>Sentiment140</td>\n",
       "      <td>Zzzzzzzzzzzzzzzzzzz, I wish</td>\n",
       "    </tr>\n",
       "  </tbody>\n",
       "</table>\n",
       "<p>1578612 rows × 4 columns</p>\n",
       "</div>"
      ],
      "text/plain": [
       "          ItemID  Sentiment SentimentSource  \\\n",
       "0              1          0    Sentiment140   \n",
       "1              2          0    Sentiment140   \n",
       "2              3          1    Sentiment140   \n",
       "3              4          0    Sentiment140   \n",
       "4              5          0    Sentiment140   \n",
       "...          ...        ...             ...   \n",
       "1578607  1578623          1    Sentiment140   \n",
       "1578608  1578624          1    Sentiment140   \n",
       "1578609  1578625          0    Sentiment140   \n",
       "1578610  1578626          0    Sentiment140   \n",
       "1578611  1578627          0    Sentiment140   \n",
       "\n",
       "                                             SentimentText  \n",
       "0                             is so sad for my APL frie...  \n",
       "1                           I missed the New Moon trail...  \n",
       "2                                  omg its already 7:30 :O  \n",
       "3                  .. Omgaga. Im sooo  im gunna CRy. I'...  \n",
       "4                 i think mi bf is cheating on me!!!   ...  \n",
       "...                                                    ...  \n",
       "1578607               Zzzzzz.... Finally! Night tweeters!   \n",
       "1578608                        Zzzzzzz, sleep well people   \n",
       "1578609            ZzzZzZzzzZ... wait no I have homework.   \n",
       "1578610      ZzZzzzZZZZzzz meh, what am I doing up again?   \n",
       "1578611                       Zzzzzzzzzzzzzzzzzzz, I wish   \n",
       "\n",
       "[1578612 rows x 4 columns]"
      ]
     },
     "execution_count": 7,
     "metadata": {},
     "output_type": "execute_result"
    }
   ],
   "source": [
    "data"
   ]
  },
  {
   "cell_type": "markdown",
   "id": "ca033c2d",
   "metadata": {},
   "source": [
    "#### Visualizing data distributions"
   ]
  },
  {
   "cell_type": "code",
   "execution_count": 8,
   "id": "602020f3",
   "metadata": {
    "scrolled": true
   },
   "outputs": [
    {
     "name": "stderr",
     "output_type": "stream",
     "text": [
      "C:\\ProgramData\\Anaconda3\\lib\\site-packages\\seaborn\\_decorators.py:36: FutureWarning: Pass the following variable as a keyword arg: x. From version 0.12, the only valid positional argument will be `data`, and passing other arguments without an explicit keyword will result in an error or misinterpretation.\n",
      "  warnings.warn(\n"
     ]
    },
    {
     "data": {
      "image/png": "[encoded data removed]",
      "text/plain": [
       "<Figure size 432x288 with 1 Axes>"
      ]
     },
     "metadata": {
      "needs_background": "light"
     },
     "output_type": "display_data"
    }
   ],
   "source": [
    "bar_chart(data['Sentiment']) # a balance data"
   ]
  },
  {
   "cell_type": "code",
   "execution_count": 9,
   "id": "41094f25",
   "metadata": {},
   "outputs": [],
   "source": [
    "np.random.seed(500)"
   ]
  },
  {
   "cell_type": "code",
   "execution_count": 10,
   "id": "c7bc6eec",
   "metadata": {},
   "outputs": [],
   "source": [
    "Corpus = data.copy()\n",
    "Corpus = Corpus.rename(columns={'Sentiment': 'label'})\n",
    "Corpus = Corpus.rename(columns={'SentimentText':'text'})"
   ]
  },
  {
   "cell_type": "code",
   "execution_count": 11,
   "id": "20f5fcdd",
   "metadata": {},
   "outputs": [
    {
     "data": {
      "text/html": [
       "<div>\n",
       "<style scoped>\n",
       "    .dataframe tbody tr th:only-of-type {\n",
       "        vertical-align: middle;\n",
       "    }\n",
       "\n",
       "    .dataframe tbody tr th {\n",
       "        vertical-align: top;\n",
       "    }\n",
       "\n",
       "    .dataframe thead th {\n",
       "        text-align: right;\n",
       "    }\n",
       "</style>\n",
       "<table border=\"1\" class=\"dataframe\">\n",
       "  <thead>\n",
       "    <tr style=\"text-align: right;\">\n",
       "      <th></th>\n",
       "      <th>ItemID</th>\n",
       "      <th>label</th>\n",
       "      <th>SentimentSource</th>\n",
       "      <th>text</th>\n",
       "    </tr>\n",
       "  </thead>\n",
       "  <tbody>\n",
       "    <tr>\n",
       "      <th>0</th>\n",
       "      <td>1</td>\n",
       "      <td>0</td>\n",
       "      <td>Sentiment140</td>\n",
       "      <td>is so sad for my APL frie...</td>\n",
       "    </tr>\n",
       "    <tr>\n",
       "      <th>1</th>\n",
       "      <td>2</td>\n",
       "      <td>0</td>\n",
       "      <td>Sentiment140</td>\n",
       "      <td>I missed the New Moon trail...</td>\n",
       "    </tr>\n",
       "    <tr>\n",
       "      <th>2</th>\n",
       "      <td>3</td>\n",
       "      <td>1</td>\n",
       "      <td>Sentiment140</td>\n",
       "      <td>omg its already 7:30 :O</td>\n",
       "    </tr>\n",
       "    <tr>\n",
       "      <th>3</th>\n",
       "      <td>4</td>\n",
       "      <td>0</td>\n",
       "      <td>Sentiment140</td>\n",
       "      <td>.. Omgaga. Im sooo  im gunna CRy. I'...</td>\n",
       "    </tr>\n",
       "    <tr>\n",
       "      <th>4</th>\n",
       "      <td>5</td>\n",
       "      <td>0</td>\n",
       "      <td>Sentiment140</td>\n",
       "      <td>i think mi bf is cheating on me!!!   ...</td>\n",
       "    </tr>\n",
       "    <tr>\n",
       "      <th>...</th>\n",
       "      <td>...</td>\n",
       "      <td>...</td>\n",
       "      <td>...</td>\n",
       "      <td>...</td>\n",
       "    </tr>\n",
       "    <tr>\n",
       "      <th>1578607</th>\n",
       "      <td>1578623</td>\n",
       "      <td>1</td>\n",
       "      <td>Sentiment140</td>\n",
       "      <td>Zzzzzz.... Finally! Night tweeters!</td>\n",
       "    </tr>\n",
       "    <tr>\n",
       "      <th>1578608</th>\n",
       "      <td>1578624</td>\n",
       "      <td>1</td>\n",
       "      <td>Sentiment140</td>\n",
       "      <td>Zzzzzzz, sleep well people</td>\n",
       "    </tr>\n",
       "    <tr>\n",
       "      <th>1578609</th>\n",
       "      <td>1578625</td>\n",
       "      <td>0</td>\n",
       "      <td>Sentiment140</td>\n",
       "      <td>ZzzZzZzzzZ... wait no I have homework.</td>\n",
       "    </tr>\n",
       "    <tr>\n",
       "      <th>1578610</th>\n",
       "      <td>1578626</td>\n",
       "      <td>0</td>\n",
       "      <td>Sentiment140</td>\n",
       "      <td>ZzZzzzZZZZzzz meh, what am I doing up again?</td>\n",
       "    </tr>\n",
       "    <tr>\n",
       "      <th>1578611</th>\n",
       "      <td>1578627</td>\n",
       "      <td>0</td>\n",
       "      <td>Sentiment140</td>\n",
       "      <td>Zzzzzzzzzzzzzzzzzzz, I wish</td>\n",
       "    </tr>\n",
       "  </tbody>\n",
       "</table>\n",
       "<p>1578612 rows × 4 columns</p>\n",
       "</div>"
      ],
      "text/plain": [
       "          ItemID  label SentimentSource  \\\n",
       "0              1      0    Sentiment140   \n",
       "1              2      0    Sentiment140   \n",
       "2              3      1    Sentiment140   \n",
       "3              4      0    Sentiment140   \n",
       "4              5      0    Sentiment140   \n",
       "...          ...    ...             ...   \n",
       "1578607  1578623      1    Sentiment140   \n",
       "1578608  1578624      1    Sentiment140   \n",
       "1578609  1578625      0    Sentiment140   \n",
       "1578610  1578626      0    Sentiment140   \n",
       "1578611  1578627      0    Sentiment140   \n",
       "\n",
       "                                                      text  \n",
       "0                             is so sad for my APL frie...  \n",
       "1                           I missed the New Moon trail...  \n",
       "2                                  omg its already 7:30 :O  \n",
       "3                  .. Omgaga. Im sooo  im gunna CRy. I'...  \n",
       "4                 i think mi bf is cheating on me!!!   ...  \n",
       "...                                                    ...  \n",
       "1578607               Zzzzzz.... Finally! Night tweeters!   \n",
       "1578608                        Zzzzzzz, sleep well people   \n",
       "1578609            ZzzZzZzzzZ... wait no I have homework.   \n",
       "1578610      ZzZzzzZZZZzzz meh, what am I doing up again?   \n",
       "1578611                       Zzzzzzzzzzzzzzzzzzz, I wish   \n",
       "\n",
       "[1578612 rows x 4 columns]"
      ]
     },
     "execution_count": 11,
     "metadata": {},
     "output_type": "execute_result"
    }
   ],
   "source": [
    "Corpus"
   ]
  },
  {
   "cell_type": "markdown",
   "id": "480075bb",
   "metadata": {},
   "source": [
    "### Data Preprocess"
   ]
  },
  {
   "cell_type": "code",
   "execution_count": null,
   "id": "9c81eff8",
   "metadata": {},
   "outputs": [],
   "source": [
    "Corpus['text'].dropna(inplace=True)\n",
    "Corpus['text'] = [entry.lower() for entry in Corpus['text']]\n",
    "Corpus['text']= [word_tokenize(entry) for entry in Corpus['text']]\n",
    "\n",
    "tag_map = defaultdict(lambda : wn.NOUN)\n",
    "tag_map['J'] = wn.ADJ\n",
    "tag_map['V'] = wn.VERB\n",
    "tag_map['R'] = wn.ADV\n",
    "for index,entry in enumerate(Corpus['text']):\n",
    "    # Declaring Empty List to store the words that follow the rules for this step\n",
    "    Final_words = []\n",
    "    # Initializing WordNetLemmatizer()\n",
    "    word_Lemmatized = WordNetLemmatizer()\n",
    "    # pos_tag function below will provide the 'tag' i.e if the word is Noun(N) or Verb(V) or something else.\n",
    "    for word, tag in pos_tag(entry):\n",
    "        # Below condition is to check for Stop words and consider only alphabets\n",
    "        if word not in stopwords.words('english') and word.isalpha():\n",
    "            word_Final = word_Lemmatized.lemmatize(word,tag_map[tag[0]])\n",
    "            Final_words.append(word_Final)\n",
    "    # The final processed set of words for each iteration will be stored in 'text_final'\n",
    "    Corpus.loc[index,'text_final'] = str(Final_words)"
   ]
  },
  {
   "cell_type": "code",
   "execution_count": 17,
   "id": "a23f1415",
   "metadata": {},
   "outputs": [],
   "source": [
    "save_csvfile(Corpus, 'tokenized.csv')\n",
    "Corpus_org = Corpus.copy()\n",
    "\n",
    "lineNotifyMessage ('tokenized')"
   ]
  },
  {
   "cell_type": "code",
   "execution_count": 16,
   "id": "84cc87e8",
   "metadata": {},
   "outputs": [
    {
     "name": "stdout",
     "output_type": "stream",
     "text": [
      "check, dataframe, file_name, seperator\n",
      "open csv file  tokenized.csv\n"
     ]
    }
   ],
   "source": [
    "# Corpus = open_csvfile('Corpus','tokenized.csv', ',')"
   ]
  },
  {
   "cell_type": "markdown",
   "id": "4b29d714",
   "metadata": {},
   "source": [
    "### ML Train"
   ]
  },
  {
   "cell_type": "code",
   "execution_count": 18,
   "id": "fe3fee1b",
   "metadata": {},
   "outputs": [],
   "source": [
    "Train_X, Test_X, Train_Y, Test_Y = model_selection.train_test_split(Corpus['text_final'],Corpus['label'],test_size=0.2)"
   ]
  },
  {
   "cell_type": "code",
   "execution_count": 19,
   "id": "8d511d1e",
   "metadata": {},
   "outputs": [],
   "source": [
    "Encoder = LabelEncoder()\n",
    "Train_Y = Encoder.fit_transform(Train_Y)\n",
    "Test_Y = Encoder.fit_transform(Test_Y)"
   ]
  },
  {
   "cell_type": "code",
   "execution_count": 20,
   "id": "d52fe074",
   "metadata": {},
   "outputs": [],
   "source": [
    "Tfidf_vect = TfidfVectorizer(max_features=5000)\n",
    "Tfidf_vect.fit(Corpus['text_final'])\n",
    "Train_X_Tfidf = Tfidf_vect.transform(Train_X)\n",
    "Test_X_Tfidf = Tfidf_vect.transform(Test_X)"
   ]
  },
  {
   "cell_type": "markdown",
   "id": "d797b71e",
   "metadata": {},
   "source": [
    "### MultinomialNB"
   ]
  },
  {
   "cell_type": "code",
   "execution_count": 21,
   "id": "a056365b",
   "metadata": {},
   "outputs": [
    {
     "name": "stdout",
     "output_type": "stream",
     "text": [
      "Naive Bayes Accuracy Score ->  75.32773982256599\n"
     ]
    }
   ],
   "source": [
    "MNB = naive_bayes.MultinomialNB()\n",
    "MNB.fit(Train_X_Tfidf,Train_Y)\n",
    "predictions_MNB = MNB.predict(Test_X_Tfidf)\n",
    "print(\"Naive Bayes Accuracy Score -> \",accuracy_score(predictions_MNB, Test_Y)*100)"
   ]
  },
  {
   "cell_type": "code",
   "execution_count": 31,
   "id": "8d9b08e5",
   "metadata": {},
   "outputs": [
    {
     "data": {
      "text/plain": [
       "array([[117668,  37613],\n",
       "       [ 40283, 120159]], dtype=int64)"
      ]
     },
     "execution_count": 31,
     "metadata": {},
     "output_type": "execute_result"
    }
   ],
   "source": [
    "confusion_matrix(predictions_MNB,Test_Y)"
   ]
  },
  {
   "cell_type": "code",
   "execution_count": 22,
   "id": "7b5f52b4",
   "metadata": {},
   "outputs": [
    {
     "data": {
      "text/plain": [
       "<AxesSubplot:>"
      ]
     },
     "execution_count": 22,
     "metadata": {},
     "output_type": "execute_result"
    },
    {
     "data": {
      "image/png": "[encoded data removed]",
      "text/plain": [
       "<Figure size 432x288 with 2 Axes>"
      ]
     },
     "metadata": {
      "needs_background": "light"
     },
     "output_type": "display_data"
    }
   ],
   "source": [
    "sns.heatmap(confusion_matrix(predictions_MNB,Test_Y), annot=True)"
   ]
  },
  {
   "cell_type": "code",
   "execution_count": 23,
   "id": "84fc1aca",
   "metadata": {},
   "outputs": [
    {
     "name": "stdout",
     "output_type": "stream",
     "text": [
      "              precision    recall  f1-score   support\n",
      "\n",
      "           0       0.74      0.76      0.75    155281\n",
      "           1       0.76      0.75      0.76    160442\n",
      "\n",
      "    accuracy                           0.75    315723\n",
      "   macro avg       0.75      0.75      0.75    315723\n",
      "weighted avg       0.75      0.75      0.75    315723\n",
      "\n"
     ]
    }
   ],
   "source": [
    "print(classification_report(predictions_MNB,Test_Y))"
   ]
  },
  {
   "cell_type": "markdown",
   "id": "6ac1cd8d",
   "metadata": {},
   "source": [
    "### CNB"
   ]
  },
  {
   "cell_type": "code",
   "execution_count": 24,
   "id": "d30a2c16",
   "metadata": {},
   "outputs": [
    {
     "name": "stdout",
     "output_type": "stream",
     "text": [
      "Naive Bayes Accuracy Score ->  75.16493888630224\n"
     ]
    }
   ],
   "source": [
    "CNB = naive_bayes.ComplementNB()\n",
    "CNB.fit(Train_X_Tfidf,Train_Y)\n",
    "predictions_CNB = CNB.predict(Test_X_Tfidf)\n",
    "print(\"Naive Bayes Accuracy Score -> \",accuracy_score(predictions_CNB, Test_Y)*100)"
   ]
  },
  {
   "cell_type": "code",
   "execution_count": 28,
   "id": "afdca891",
   "metadata": {},
   "outputs": [
    {
     "data": {
      "text/plain": [
       "array([[119524,  39983],\n",
       "       [ 38427, 117789]], dtype=int64)"
      ]
     },
     "execution_count": 28,
     "metadata": {},
     "output_type": "execute_result"
    }
   ],
   "source": [
    "confusion_matrix(predictions_CNB,Test_Y)"
   ]
  },
  {
   "cell_type": "code",
   "execution_count": 30,
   "id": "946114ef",
   "metadata": {},
   "outputs": [
    {
     "data": {
      "text/plain": [
       "<AxesSubplot:>"
      ]
     },
     "execution_count": 30,
     "metadata": {},
     "output_type": "execute_result"
    },
    {
     "data": {
      "image/png": "[encoded data removed]",
      "text/plain": [
       "<Figure size 432x288 with 2 Axes>"
      ]
     },
     "metadata": {
      "needs_background": "light"
     },
     "output_type": "display_data"
    }
   ],
   "source": [
    "sns.heatmap(confusion_matrix(predictions_CNB,Test_Y), annot=True)"
   ]
  },
  {
   "cell_type": "code",
   "execution_count": 26,
   "id": "00e6d665",
   "metadata": {},
   "outputs": [
    {
     "name": "stdout",
     "output_type": "stream",
     "text": [
      "              precision    recall  f1-score   support\n",
      "\n",
      "           0       0.76      0.75      0.75    159507\n",
      "           1       0.75      0.75      0.75    156216\n",
      "\n",
      "    accuracy                           0.75    315723\n",
      "   macro avg       0.75      0.75      0.75    315723\n",
      "weighted avg       0.75      0.75      0.75    315723\n",
      "\n"
     ]
    }
   ],
   "source": [
    "print(classification_report(predictions_CNB,Test_Y))"
   ]
  },
  {
   "cell_type": "markdown",
   "id": "3be855e6",
   "metadata": {},
   "source": [
    "### RF"
   ]
  },
  {
   "cell_type": "code",
   "execution_count": null,
   "id": "b442a1c7",
   "metadata": {},
   "outputs": [],
   "source": [
    "from sklearn.ensemble import RandomForestClassifier\n",
    "RF = RandomForestClassifier()\n",
    "RF.fit(Train_X_Tfidf,Train_Y)\n",
    "predictions_RF = RF.predict(Test_X_Tfidf)\n",
    "print(\"Random Forest Accuracy Score -> \",accuracy_score(predictions_RF, Test_Y)*100)"
   ]
  },
  {
   "cell_type": "code",
   "execution_count": null,
   "id": "c0df35a0",
   "metadata": {},
   "outputs": [],
   "source": [
    "confusion_matrix(predictions_RF,Test_Y)"
   ]
  },
  {
   "cell_type": "code",
   "execution_count": null,
   "id": "b5fbb86c",
   "metadata": {},
   "outputs": [],
   "source": [
    "sns.heatmap(confusion_matrix(predictions_RF,Test_Y), annot=True)"
   ]
  },
  {
   "cell_type": "code",
   "execution_count": null,
   "id": "f20b2b3c",
   "metadata": {},
   "outputs": [],
   "source": [
    "print(classification_report(predictions_RF,Test_Y))"
   ]
  },
  {
   "cell_type": "markdown",
   "id": "a7508ae2",
   "metadata": {},
   "source": [
    "### svm.SVC"
   ]
  },
  {
   "cell_type": "code",
   "execution_count": null,
   "id": "a831072e",
   "metadata": {},
   "outputs": [],
   "source": [
    "SVM = svm.SVC(C=1.0, kernel='linear', degree=3, gamma='auto')\n",
    "SVM.fit(Train_X_Tfidf,Train_Y)\n",
    "predictions_SVM = SVM.predict(Test_X_Tfidf)\n",
    "print(\"SVM Accuracy Score -> \",accuracy_score(predictions_SVM, Test_Y)*100)"
   ]
  },
  {
   "cell_type": "code",
   "execution_count": null,
   "id": "052dd27a",
   "metadata": {},
   "outputs": [],
   "source": [
    "sns.heatmap(confusion_matrix(predictions_SVM,Test_Y), annot=True)"
   ]
  },
  {
   "cell_type": "code",
   "execution_count": null,
   "id": "c62c1b84",
   "metadata": {},
   "outputs": [],
   "source": [
    "print(classification_report(predictions_SVM,Test_Y))"
   ]
  },
  {
   "cell_type": "code",
   "execution_count": null,
   "id": "2ba1437b",
   "metadata": {},
   "outputs": [],
   "source": [
    "lineNotifyMessage ('SVC')"
   ]
  },
  {
   "cell_type": "markdown",
   "id": "defe37c2",
   "metadata": {},
   "source": [
    "###"
   ]
  },
  {
   "cell_type": "code",
   "execution_count": null,
   "id": "10e6e3a6",
   "metadata": {},
   "outputs": [],
   "source": []
  },
  {
   "cell_type": "code",
   "execution_count": null,
   "id": "1d744ad4",
   "metadata": {},
   "outputs": [],
   "source": []
  },
  {
   "cell_type": "code",
   "execution_count": null,
   "id": "73391ccf",
   "metadata": {},
   "outputs": [],
   "source": []
  }
 ],
 "metadata": {
  "kernelspec": {
   "display_name": "Python 3",
   "language": "python",
   "name": "python3"
  },
  "language_info": {
   "codemirror_mode": {
    "name": "ipython",
    "version": 3
   },
   "file_extension": ".py",
   "mimetype": "text/x-python",
   "name": "python",
   "nbconvert_exporter": "python",
   "pygments_lexer": "ipython3",
   "version": "3.8.8"
  }
 },
 "nbformat": 4,
 "nbformat_minor": 5
}
